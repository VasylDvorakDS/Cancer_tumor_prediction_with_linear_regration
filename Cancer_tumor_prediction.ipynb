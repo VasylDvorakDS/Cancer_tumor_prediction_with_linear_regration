{
  "nbformat": 4,
  "nbformat_minor": 0,
  "metadata": {
    "colab": {
      "provenance": [],
      "authorship_tag": "ABX9TyO4H57JzOTQctd9IhkxHpgm",
      "include_colab_link": true
    },
    "kernelspec": {
      "name": "python3",
      "display_name": "Python 3"
    },
    "language_info": {
      "name": "python"
    }
  },
  "cells": [
    {
      "cell_type": "markdown",
      "metadata": {
        "id": "view-in-github",
        "colab_type": "text"
      },
      "source": [
        "<a href=\"https://colab.research.google.com/github/VasylDvorakDS/Cancer_tumor_prediction_with_linear_regration/blob/master/Cancer_tumor_prediction.ipynb\" target=\"_parent\"><img src=\"https://colab.research.google.com/assets/colab-badge.svg\" alt=\"Open In Colab\"/></a>"
      ]
    },
    {
      "cell_type": "code",
      "execution_count": 2,
      "metadata": {
        "colab": {
          "base_uri": "https://localhost:8080/"
        },
        "id": "9EsQs4sj321l",
        "outputId": "3b945d4a-8171-494a-bdd9-c63ff92bf742"
      },
      "outputs": [
        {
          "output_type": "stream",
          "name": "stdout",
          "text": [
            "Colab only includes TensorFlow 2.x; %tensorflow_version has no effect.\n",
            "2.15.0\n"
          ]
        }
      ],
      "source": [
        "try:\n",
        "  %tensorflow_version 2.x\n",
        "except Exception:\n",
        "  pass\n",
        "\n",
        "import  tensorflow as tf\n",
        "print(tf.__version__)"
      ]
    },
    {
      "cell_type": "code",
      "source": [
        "from sklearn.datasets import load_breast_cancer"
      ],
      "metadata": {
        "id": "XONBT08J4mBi"
      },
      "execution_count": 3,
      "outputs": []
    },
    {
      "cell_type": "code",
      "source": [
        "data =  load_breast_cancer()"
      ],
      "metadata": {
        "id": "UstwMYc85-14"
      },
      "execution_count": 4,
      "outputs": []
    },
    {
      "cell_type": "code",
      "source": [
        "data"
      ],
      "metadata": {
        "colab": {
          "base_uri": "https://localhost:8080/"
        },
        "id": "h_9MHRJ-5-5X",
        "outputId": "4f5c8e7c-273e-4d24-a312-986b1e0765c4"
      },
      "execution_count": 5,
      "outputs": [
        {
          "output_type": "execute_result",
          "data": {
            "text/plain": [
              "{'data': array([[1.799e+01, 1.038e+01, 1.228e+02, ..., 2.654e-01, 4.601e-01,\n",
              "         1.189e-01],\n",
              "        [2.057e+01, 1.777e+01, 1.329e+02, ..., 1.860e-01, 2.750e-01,\n",
              "         8.902e-02],\n",
              "        [1.969e+01, 2.125e+01, 1.300e+02, ..., 2.430e-01, 3.613e-01,\n",
              "         8.758e-02],\n",
              "        ...,\n",
              "        [1.660e+01, 2.808e+01, 1.083e+02, ..., 1.418e-01, 2.218e-01,\n",
              "         7.820e-02],\n",
              "        [2.060e+01, 2.933e+01, 1.401e+02, ..., 2.650e-01, 4.087e-01,\n",
              "         1.240e-01],\n",
              "        [7.760e+00, 2.454e+01, 4.792e+01, ..., 0.000e+00, 2.871e-01,\n",
              "         7.039e-02]]),\n",
              " 'target': array([0, 0, 0, 0, 0, 0, 0, 0, 0, 0, 0, 0, 0, 0, 0, 0, 0, 0, 0, 1, 1, 1,\n",
              "        0, 0, 0, 0, 0, 0, 0, 0, 0, 0, 0, 0, 0, 0, 0, 1, 0, 0, 0, 0, 0, 0,\n",
              "        0, 0, 1, 0, 1, 1, 1, 1, 1, 0, 0, 1, 0, 0, 1, 1, 1, 1, 0, 1, 0, 0,\n",
              "        1, 1, 1, 1, 0, 1, 0, 0, 1, 0, 1, 0, 0, 1, 1, 1, 0, 0, 1, 0, 0, 0,\n",
              "        1, 1, 1, 0, 1, 1, 0, 0, 1, 1, 1, 0, 0, 1, 1, 1, 1, 0, 1, 1, 0, 1,\n",
              "        1, 1, 1, 1, 1, 1, 1, 0, 0, 0, 1, 0, 0, 1, 1, 1, 0, 0, 1, 0, 1, 0,\n",
              "        0, 1, 0, 0, 1, 1, 0, 1, 1, 0, 1, 1, 1, 1, 0, 1, 1, 1, 1, 1, 1, 1,\n",
              "        1, 1, 0, 1, 1, 1, 1, 0, 0, 1, 0, 1, 1, 0, 0, 1, 1, 0, 0, 1, 1, 1,\n",
              "        1, 0, 1, 1, 0, 0, 0, 1, 0, 1, 0, 1, 1, 1, 0, 1, 1, 0, 0, 1, 0, 0,\n",
              "        0, 0, 1, 0, 0, 0, 1, 0, 1, 0, 1, 1, 0, 1, 0, 0, 0, 0, 1, 1, 0, 0,\n",
              "        1, 1, 1, 0, 1, 1, 1, 1, 1, 0, 0, 1, 1, 0, 1, 1, 0, 0, 1, 0, 1, 1,\n",
              "        1, 1, 0, 1, 1, 1, 1, 1, 0, 1, 0, 0, 0, 0, 0, 0, 0, 0, 0, 0, 0, 0,\n",
              "        0, 0, 1, 1, 1, 1, 1, 1, 0, 1, 0, 1, 1, 0, 1, 1, 0, 1, 0, 0, 1, 1,\n",
              "        1, 1, 1, 1, 1, 1, 1, 1, 1, 1, 1, 0, 1, 1, 0, 1, 0, 1, 1, 1, 1, 1,\n",
              "        1, 1, 1, 1, 1, 1, 1, 1, 1, 0, 1, 1, 1, 0, 1, 0, 1, 1, 1, 1, 0, 0,\n",
              "        0, 1, 1, 1, 1, 0, 1, 0, 1, 0, 1, 1, 1, 0, 1, 1, 1, 1, 1, 1, 1, 0,\n",
              "        0, 0, 1, 1, 1, 1, 1, 1, 1, 1, 1, 1, 1, 0, 0, 1, 0, 0, 0, 1, 0, 0,\n",
              "        1, 1, 1, 1, 1, 0, 1, 1, 1, 1, 1, 0, 1, 1, 1, 0, 1, 1, 0, 0, 1, 1,\n",
              "        1, 1, 1, 1, 0, 1, 1, 1, 1, 1, 1, 1, 0, 1, 1, 1, 1, 1, 0, 1, 1, 0,\n",
              "        1, 1, 1, 1, 1, 1, 1, 1, 1, 1, 1, 1, 0, 1, 0, 0, 1, 0, 1, 1, 1, 1,\n",
              "        1, 0, 1, 1, 0, 1, 0, 1, 1, 0, 1, 0, 1, 1, 1, 1, 1, 1, 1, 1, 0, 0,\n",
              "        1, 1, 1, 1, 1, 1, 0, 1, 1, 1, 1, 1, 1, 1, 1, 1, 1, 0, 1, 1, 1, 1,\n",
              "        1, 1, 1, 0, 1, 0, 1, 1, 0, 1, 1, 1, 1, 1, 0, 0, 1, 0, 1, 0, 1, 1,\n",
              "        1, 1, 1, 0, 1, 1, 0, 1, 0, 1, 0, 0, 1, 1, 1, 0, 1, 1, 1, 1, 1, 1,\n",
              "        1, 1, 1, 1, 1, 0, 1, 0, 0, 1, 1, 1, 1, 1, 1, 1, 1, 1, 1, 1, 1, 1,\n",
              "        1, 1, 1, 1, 1, 1, 1, 1, 1, 1, 1, 1, 0, 0, 0, 0, 0, 0, 1]),\n",
              " 'frame': None,\n",
              " 'target_names': array(['malignant', 'benign'], dtype='<U9'),\n",
              " 'DESCR': '.. _breast_cancer_dataset:\\n\\nBreast cancer wisconsin (diagnostic) dataset\\n--------------------------------------------\\n\\n**Data Set Characteristics:**\\n\\n    :Number of Instances: 569\\n\\n    :Number of Attributes: 30 numeric, predictive attributes and the class\\n\\n    :Attribute Information:\\n        - radius (mean of distances from center to points on the perimeter)\\n        - texture (standard deviation of gray-scale values)\\n        - perimeter\\n        - area\\n        - smoothness (local variation in radius lengths)\\n        - compactness (perimeter^2 / area - 1.0)\\n        - concavity (severity of concave portions of the contour)\\n        - concave points (number of concave portions of the contour)\\n        - symmetry\\n        - fractal dimension (\"coastline approximation\" - 1)\\n\\n        The mean, standard error, and \"worst\" or largest (mean of the three\\n        worst/largest values) of these features were computed for each image,\\n        resulting in 30 features.  For instance, field 0 is Mean Radius, field\\n        10 is Radius SE, field 20 is Worst Radius.\\n\\n        - class:\\n                - WDBC-Malignant\\n                - WDBC-Benign\\n\\n    :Summary Statistics:\\n\\n    ===================================== ====== ======\\n                                           Min    Max\\n    ===================================== ====== ======\\n    radius (mean):                        6.981  28.11\\n    texture (mean):                       9.71   39.28\\n    perimeter (mean):                     43.79  188.5\\n    area (mean):                          143.5  2501.0\\n    smoothness (mean):                    0.053  0.163\\n    compactness (mean):                   0.019  0.345\\n    concavity (mean):                     0.0    0.427\\n    concave points (mean):                0.0    0.201\\n    symmetry (mean):                      0.106  0.304\\n    fractal dimension (mean):             0.05   0.097\\n    radius (standard error):              0.112  2.873\\n    texture (standard error):             0.36   4.885\\n    perimeter (standard error):           0.757  21.98\\n    area (standard error):                6.802  542.2\\n    smoothness (standard error):          0.002  0.031\\n    compactness (standard error):         0.002  0.135\\n    concavity (standard error):           0.0    0.396\\n    concave points (standard error):      0.0    0.053\\n    symmetry (standard error):            0.008  0.079\\n    fractal dimension (standard error):   0.001  0.03\\n    radius (worst):                       7.93   36.04\\n    texture (worst):                      12.02  49.54\\n    perimeter (worst):                    50.41  251.2\\n    area (worst):                         185.2  4254.0\\n    smoothness (worst):                   0.071  0.223\\n    compactness (worst):                  0.027  1.058\\n    concavity (worst):                    0.0    1.252\\n    concave points (worst):               0.0    0.291\\n    symmetry (worst):                     0.156  0.664\\n    fractal dimension (worst):            0.055  0.208\\n    ===================================== ====== ======\\n\\n    :Missing Attribute Values: None\\n\\n    :Class Distribution: 212 - Malignant, 357 - Benign\\n\\n    :Creator:  Dr. William H. Wolberg, W. Nick Street, Olvi L. Mangasarian\\n\\n    :Donor: Nick Street\\n\\n    :Date: November, 1995\\n\\nThis is a copy of UCI ML Breast Cancer Wisconsin (Diagnostic) datasets.\\nhttps://goo.gl/U2Uwz2\\n\\nFeatures are computed from a digitized image of a fine needle\\naspirate (FNA) of a breast mass.  They describe\\ncharacteristics of the cell nuclei present in the image.\\n\\nSeparating plane described above was obtained using\\nMultisurface Method-Tree (MSM-T) [K. P. Bennett, \"Decision Tree\\nConstruction Via Linear Programming.\" Proceedings of the 4th\\nMidwest Artificial Intelligence and Cognitive Science Society,\\npp. 97-101, 1992], a classification method which uses linear\\nprogramming to construct a decision tree.  Relevant features\\nwere selected using an exhaustive search in the space of 1-4\\nfeatures and 1-3 separating planes.\\n\\nThe actual linear program used to obtain the separating plane\\nin the 3-dimensional space is that described in:\\n[K. P. Bennett and O. L. Mangasarian: \"Robust Linear\\nProgramming Discrimination of Two Linearly Inseparable Sets\",\\nOptimization Methods and Software 1, 1992, 23-34].\\n\\nThis database is also available through the UW CS ftp server:\\n\\nftp ftp.cs.wisc.edu\\ncd math-prog/cpo-dataset/machine-learn/WDBC/\\n\\n.. topic:: References\\n\\n   - W.N. Street, W.H. Wolberg and O.L. Mangasarian. Nuclear feature extraction \\n     for breast tumor diagnosis. IS&T/SPIE 1993 International Symposium on \\n     Electronic Imaging: Science and Technology, volume 1905, pages 861-870,\\n     San Jose, CA, 1993.\\n   - O.L. Mangasarian, W.N. Street and W.H. Wolberg. Breast cancer diagnosis and \\n     prognosis via linear programming. Operations Research, 43(4), pages 570-577, \\n     July-August 1995.\\n   - W.H. Wolberg, W.N. Street, and O.L. Mangasarian. Machine learning techniques\\n     to diagnose breast cancer from fine-needle aspirates. Cancer Letters 77 (1994) \\n     163-171.',\n",
              " 'feature_names': array(['mean radius', 'mean texture', 'mean perimeter', 'mean area',\n",
              "        'mean smoothness', 'mean compactness', 'mean concavity',\n",
              "        'mean concave points', 'mean symmetry', 'mean fractal dimension',\n",
              "        'radius error', 'texture error', 'perimeter error', 'area error',\n",
              "        'smoothness error', 'compactness error', 'concavity error',\n",
              "        'concave points error', 'symmetry error',\n",
              "        'fractal dimension error', 'worst radius', 'worst texture',\n",
              "        'worst perimeter', 'worst area', 'worst smoothness',\n",
              "        'worst compactness', 'worst concavity', 'worst concave points',\n",
              "        'worst symmetry', 'worst fractal dimension'], dtype='<U23'),\n",
              " 'filename': 'breast_cancer.csv',\n",
              " 'data_module': 'sklearn.datasets.data'}"
            ]
          },
          "metadata": {},
          "execution_count": 5
        }
      ]
    },
    {
      "cell_type": "code",
      "source": [
        "type(data)"
      ],
      "metadata": {
        "colab": {
          "base_uri": "https://localhost:8080/",
          "height": 206
        },
        "id": "nhT8PXpz5-8W",
        "outputId": "54b09384-7c14-43cb-82b9-50b4aa367a75"
      },
      "execution_count": 6,
      "outputs": [
        {
          "output_type": "execute_result",
          "data": {
            "text/plain": [
              "sklearn.utils._bunch.Bunch"
            ],
            "text/html": [
              "<div style=\"max-width:800px; border: 1px solid var(--colab-border-color);\"><style>\n",
              "      pre.function-repr-contents {\n",
              "        overflow-x: auto;\n",
              "        padding: 8px 12px;\n",
              "        max-height: 500px;\n",
              "      }\n",
              "\n",
              "      pre.function-repr-contents.function-repr-contents-collapsed {\n",
              "        cursor: pointer;\n",
              "        max-height: 100px;\n",
              "      }\n",
              "    </style>\n",
              "    <pre style=\"white-space: initial; background:\n",
              "         var(--colab-secondary-surface-color); padding: 8px 12px;\n",
              "         border-bottom: 1px solid var(--colab-border-color);\"><b>sklearn.utils._bunch.Bunch</b><br/>def __init__(**kwargs)</pre><pre class=\"function-repr-contents function-repr-contents-collapsed\" style=\"\"><a class=\"filepath\" style=\"display:none\" href=\"#\">/usr/local/lib/python3.10/dist-packages/sklearn/utils/_bunch.py</a>Container object exposing keys as attributes.\n",
              "\n",
              "Bunch objects are sometimes used as an output for functions and methods.\n",
              "They extend dictionaries by enabling values to be accessed by key,\n",
              "`bunch[&quot;value_key&quot;]`, or by an attribute, `bunch.value_key`.\n",
              "\n",
              "Examples\n",
              "--------\n",
              "&gt;&gt;&gt; from sklearn.utils import Bunch\n",
              "&gt;&gt;&gt; b = Bunch(a=1, b=2)\n",
              "&gt;&gt;&gt; b[&#x27;b&#x27;]\n",
              "2\n",
              "&gt;&gt;&gt; b.b\n",
              "2\n",
              "&gt;&gt;&gt; b.a = 3\n",
              "&gt;&gt;&gt; b[&#x27;a&#x27;]\n",
              "3\n",
              "&gt;&gt;&gt; b.c = 6\n",
              "&gt;&gt;&gt; b[&#x27;c&#x27;]\n",
              "6</pre>\n",
              "      <script>\n",
              "      if (google.colab.kernel.accessAllowed && google.colab.files && google.colab.files.view) {\n",
              "        for (const element of document.querySelectorAll('.filepath')) {\n",
              "          element.style.display = 'block'\n",
              "          element.onclick = (event) => {\n",
              "            event.preventDefault();\n",
              "            event.stopPropagation();\n",
              "            google.colab.files.view(element.textContent, 1);\n",
              "          };\n",
              "        }\n",
              "      }\n",
              "      for (const element of document.querySelectorAll('.function-repr-contents')) {\n",
              "        element.onclick = (event) => {\n",
              "          event.preventDefault();\n",
              "          event.stopPropagation();\n",
              "          element.classList.toggle('function-repr-contents-collapsed');\n",
              "        };\n",
              "      }\n",
              "      </script>\n",
              "      </div>"
            ]
          },
          "metadata": {},
          "execution_count": 6
        }
      ]
    },
    {
      "cell_type": "code",
      "source": [
        "data.keys()"
      ],
      "metadata": {
        "colab": {
          "base_uri": "https://localhost:8080/"
        },
        "id": "8XuUm7Dv5-_Z",
        "outputId": "90f22586-58da-4043-e354-ecd620a1924f"
      },
      "execution_count": 7,
      "outputs": [
        {
          "output_type": "execute_result",
          "data": {
            "text/plain": [
              "dict_keys(['data', 'target', 'frame', 'target_names', 'DESCR', 'feature_names', 'filename', 'data_module'])"
            ]
          },
          "metadata": {},
          "execution_count": 7
        }
      ]
    },
    {
      "cell_type": "code",
      "source": [
        "data.data.shape"
      ],
      "metadata": {
        "colab": {
          "base_uri": "https://localhost:8080/"
        },
        "id": "Itl2IDZv5_Ck",
        "outputId": "7471c3a9-1bc3-4ae8-8edf-7d8c7981d474"
      },
      "execution_count": 8,
      "outputs": [
        {
          "output_type": "execute_result",
          "data": {
            "text/plain": [
              "(569, 30)"
            ]
          },
          "metadata": {},
          "execution_count": 8
        }
      ]
    },
    {
      "cell_type": "code",
      "source": [
        "data.target"
      ],
      "metadata": {
        "colab": {
          "base_uri": "https://localhost:8080/"
        },
        "id": "PeP4-lVI5_Fc",
        "outputId": "d4839bcf-b795-4d30-c444-42c286fbd7f3"
      },
      "execution_count": 9,
      "outputs": [
        {
          "output_type": "execute_result",
          "data": {
            "text/plain": [
              "array([0, 0, 0, 0, 0, 0, 0, 0, 0, 0, 0, 0, 0, 0, 0, 0, 0, 0, 0, 1, 1, 1,\n",
              "       0, 0, 0, 0, 0, 0, 0, 0, 0, 0, 0, 0, 0, 0, 0, 1, 0, 0, 0, 0, 0, 0,\n",
              "       0, 0, 1, 0, 1, 1, 1, 1, 1, 0, 0, 1, 0, 0, 1, 1, 1, 1, 0, 1, 0, 0,\n",
              "       1, 1, 1, 1, 0, 1, 0, 0, 1, 0, 1, 0, 0, 1, 1, 1, 0, 0, 1, 0, 0, 0,\n",
              "       1, 1, 1, 0, 1, 1, 0, 0, 1, 1, 1, 0, 0, 1, 1, 1, 1, 0, 1, 1, 0, 1,\n",
              "       1, 1, 1, 1, 1, 1, 1, 0, 0, 0, 1, 0, 0, 1, 1, 1, 0, 0, 1, 0, 1, 0,\n",
              "       0, 1, 0, 0, 1, 1, 0, 1, 1, 0, 1, 1, 1, 1, 0, 1, 1, 1, 1, 1, 1, 1,\n",
              "       1, 1, 0, 1, 1, 1, 1, 0, 0, 1, 0, 1, 1, 0, 0, 1, 1, 0, 0, 1, 1, 1,\n",
              "       1, 0, 1, 1, 0, 0, 0, 1, 0, 1, 0, 1, 1, 1, 0, 1, 1, 0, 0, 1, 0, 0,\n",
              "       0, 0, 1, 0, 0, 0, 1, 0, 1, 0, 1, 1, 0, 1, 0, 0, 0, 0, 1, 1, 0, 0,\n",
              "       1, 1, 1, 0, 1, 1, 1, 1, 1, 0, 0, 1, 1, 0, 1, 1, 0, 0, 1, 0, 1, 1,\n",
              "       1, 1, 0, 1, 1, 1, 1, 1, 0, 1, 0, 0, 0, 0, 0, 0, 0, 0, 0, 0, 0, 0,\n",
              "       0, 0, 1, 1, 1, 1, 1, 1, 0, 1, 0, 1, 1, 0, 1, 1, 0, 1, 0, 0, 1, 1,\n",
              "       1, 1, 1, 1, 1, 1, 1, 1, 1, 1, 1, 0, 1, 1, 0, 1, 0, 1, 1, 1, 1, 1,\n",
              "       1, 1, 1, 1, 1, 1, 1, 1, 1, 0, 1, 1, 1, 0, 1, 0, 1, 1, 1, 1, 0, 0,\n",
              "       0, 1, 1, 1, 1, 0, 1, 0, 1, 0, 1, 1, 1, 0, 1, 1, 1, 1, 1, 1, 1, 0,\n",
              "       0, 0, 1, 1, 1, 1, 1, 1, 1, 1, 1, 1, 1, 0, 0, 1, 0, 0, 0, 1, 0, 0,\n",
              "       1, 1, 1, 1, 1, 0, 1, 1, 1, 1, 1, 0, 1, 1, 1, 0, 1, 1, 0, 0, 1, 1,\n",
              "       1, 1, 1, 1, 0, 1, 1, 1, 1, 1, 1, 1, 0, 1, 1, 1, 1, 1, 0, 1, 1, 0,\n",
              "       1, 1, 1, 1, 1, 1, 1, 1, 1, 1, 1, 1, 0, 1, 0, 0, 1, 0, 1, 1, 1, 1,\n",
              "       1, 0, 1, 1, 0, 1, 0, 1, 1, 0, 1, 0, 1, 1, 1, 1, 1, 1, 1, 1, 0, 0,\n",
              "       1, 1, 1, 1, 1, 1, 0, 1, 1, 1, 1, 1, 1, 1, 1, 1, 1, 0, 1, 1, 1, 1,\n",
              "       1, 1, 1, 0, 1, 0, 1, 1, 0, 1, 1, 1, 1, 1, 0, 0, 1, 0, 1, 0, 1, 1,\n",
              "       1, 1, 1, 0, 1, 1, 0, 1, 0, 1, 0, 0, 1, 1, 1, 0, 1, 1, 1, 1, 1, 1,\n",
              "       1, 1, 1, 1, 1, 0, 1, 0, 0, 1, 1, 1, 1, 1, 1, 1, 1, 1, 1, 1, 1, 1,\n",
              "       1, 1, 1, 1, 1, 1, 1, 1, 1, 1, 1, 1, 0, 0, 0, 0, 0, 0, 1])"
            ]
          },
          "metadata": {},
          "execution_count": 9
        }
      ]
    },
    {
      "cell_type": "code",
      "source": [
        "data.target_names"
      ],
      "metadata": {
        "colab": {
          "base_uri": "https://localhost:8080/"
        },
        "id": "7o6DDJnr7Feo",
        "outputId": "5c244fad-5525-440b-9565-fccd1a204fa7"
      },
      "execution_count": 10,
      "outputs": [
        {
          "output_type": "execute_result",
          "data": {
            "text/plain": [
              "array(['malignant', 'benign'], dtype='<U9')"
            ]
          },
          "metadata": {},
          "execution_count": 10
        }
      ]
    },
    {
      "cell_type": "code",
      "source": [
        "data.target.shape"
      ],
      "metadata": {
        "colab": {
          "base_uri": "https://localhost:8080/"
        },
        "id": "h7w-rUil7Fhx",
        "outputId": "cc1dc987-2e59-46e7-cf34-79d214a898b4"
      },
      "execution_count": 11,
      "outputs": [
        {
          "output_type": "execute_result",
          "data": {
            "text/plain": [
              "(569,)"
            ]
          },
          "metadata": {},
          "execution_count": 11
        }
      ]
    },
    {
      "cell_type": "code",
      "source": [
        "data.data"
      ],
      "metadata": {
        "colab": {
          "base_uri": "https://localhost:8080/"
        },
        "id": "x-UOOuPo7FkV",
        "outputId": "410f1b00-3726-4983-c22e-0380684f94cb"
      },
      "execution_count": 12,
      "outputs": [
        {
          "output_type": "execute_result",
          "data": {
            "text/plain": [
              "array([[1.799e+01, 1.038e+01, 1.228e+02, ..., 2.654e-01, 4.601e-01,\n",
              "        1.189e-01],\n",
              "       [2.057e+01, 1.777e+01, 1.329e+02, ..., 1.860e-01, 2.750e-01,\n",
              "        8.902e-02],\n",
              "       [1.969e+01, 2.125e+01, 1.300e+02, ..., 2.430e-01, 3.613e-01,\n",
              "        8.758e-02],\n",
              "       ...,\n",
              "       [1.660e+01, 2.808e+01, 1.083e+02, ..., 1.418e-01, 2.218e-01,\n",
              "        7.820e-02],\n",
              "       [2.060e+01, 2.933e+01, 1.401e+02, ..., 2.650e-01, 4.087e-01,\n",
              "        1.240e-01],\n",
              "       [7.760e+00, 2.454e+01, 4.792e+01, ..., 0.000e+00, 2.871e-01,\n",
              "        7.039e-02]])"
            ]
          },
          "metadata": {},
          "execution_count": 12
        }
      ]
    },
    {
      "cell_type": "code",
      "source": [
        "data.feature_names"
      ],
      "metadata": {
        "colab": {
          "base_uri": "https://localhost:8080/"
        },
        "id": "cHkRA2OT7Fm3",
        "outputId": "d774cf82-0164-4d2a-fe43-d255c187d0fe"
      },
      "execution_count": 13,
      "outputs": [
        {
          "output_type": "execute_result",
          "data": {
            "text/plain": [
              "array(['mean radius', 'mean texture', 'mean perimeter', 'mean area',\n",
              "       'mean smoothness', 'mean compactness', 'mean concavity',\n",
              "       'mean concave points', 'mean symmetry', 'mean fractal dimension',\n",
              "       'radius error', 'texture error', 'perimeter error', 'area error',\n",
              "       'smoothness error', 'compactness error', 'concavity error',\n",
              "       'concave points error', 'symmetry error',\n",
              "       'fractal dimension error', 'worst radius', 'worst texture',\n",
              "       'worst perimeter', 'worst area', 'worst smoothness',\n",
              "       'worst compactness', 'worst concavity', 'worst concave points',\n",
              "       'worst symmetry', 'worst fractal dimension'], dtype='<U23')"
            ]
          },
          "metadata": {},
          "execution_count": 13
        }
      ]
    },
    {
      "cell_type": "code",
      "source": [
        "from sklearn.model_selection import train_test_split"
      ],
      "metadata": {
        "id": "KJB1OhcY75Xd"
      },
      "execution_count": 14,
      "outputs": []
    },
    {
      "cell_type": "code",
      "source": [
        "X_train, X_test, y_train, y_test = train_test_split(data.data, data.target, test_size=0.33)"
      ],
      "metadata": {
        "id": "6pcIK9a775a7"
      },
      "execution_count": 15,
      "outputs": []
    },
    {
      "cell_type": "code",
      "source": [
        "N, D= X_train.shape"
      ],
      "metadata": {
        "id": "JTXypY7S75eD"
      },
      "execution_count": 16,
      "outputs": []
    },
    {
      "cell_type": "code",
      "source": [
        "N, D"
      ],
      "metadata": {
        "colab": {
          "base_uri": "https://localhost:8080/"
        },
        "id": "nOhB3sLR75hP",
        "outputId": "17042d3e-5fe0-4dbb-89d6-f6ef436006e8"
      },
      "execution_count": 17,
      "outputs": [
        {
          "output_type": "execute_result",
          "data": {
            "text/plain": [
              "(381, 30)"
            ]
          },
          "metadata": {},
          "execution_count": 17
        }
      ]
    },
    {
      "cell_type": "code",
      "source": [
        "from sklearn.preprocessing import StandardScaler"
      ],
      "metadata": {
        "id": "ceiQF6yj75ke"
      },
      "execution_count": 18,
      "outputs": []
    },
    {
      "cell_type": "code",
      "source": [
        "scaler= StandardScaler()\n",
        "X_train=scaler.fit_transform(X_train)\n",
        "X_test=scaler.transform(X_test)\n"
      ],
      "metadata": {
        "id": "M3yioRWG75pv"
      },
      "execution_count": 19,
      "outputs": []
    },
    {
      "cell_type": "code",
      "source": [
        "model=tf.keras.models.Sequential([\n",
        "    tf.keras.layers.Input(shape=(D,)),\n",
        "    tf.keras.layers.Dense(1, activation='sigmoid')\n",
        "])"
      ],
      "metadata": {
        "id": "C9p-gbxa7FpD"
      },
      "execution_count": 20,
      "outputs": []
    },
    {
      "cell_type": "code",
      "source": [
        "model = tf.keras.models.Sequential()\n",
        "model.add(tf.keras.layers.Dense(1, input_shape=(D,),activation='sigmoid'))"
      ],
      "metadata": {
        "id": "ixxHFNL_7FrM"
      },
      "execution_count": 21,
      "outputs": []
    },
    {
      "cell_type": "code",
      "source": [
        "model.compile(optimizer='adam',\n",
        "              loss='binary_crossentropy',\n",
        "              metrics=['accuracy']\n",
        "              )"
      ],
      "metadata": {
        "id": "m4uJtY1G_ooA"
      },
      "execution_count": 22,
      "outputs": []
    },
    {
      "cell_type": "code",
      "source": [
        "r = model.fit(X_train, y_train, validation_data=(X_test, y_test), epochs=100)"
      ],
      "metadata": {
        "colab": {
          "base_uri": "https://localhost:8080/"
        },
        "id": "v8bElI5rAiJR",
        "outputId": "8fa073c3-6171-46c1-9d08-1b83d376eaca"
      },
      "execution_count": 23,
      "outputs": [
        {
          "output_type": "stream",
          "name": "stdout",
          "text": [
            "Epoch 1/100\n",
            "12/12 [==============================] - 2s 39ms/step - loss: 0.4350 - accuracy: 0.8425 - val_loss: 0.4378 - val_accuracy: 0.8351\n",
            "Epoch 2/100\n",
            "12/12 [==============================] - 0s 8ms/step - loss: 0.4008 - accuracy: 0.8635 - val_loss: 0.4048 - val_accuracy: 0.8564\n",
            "Epoch 3/100\n",
            "12/12 [==============================] - 0s 12ms/step - loss: 0.3732 - accuracy: 0.8819 - val_loss: 0.3754 - val_accuracy: 0.8617\n",
            "Epoch 4/100\n",
            "12/12 [==============================] - 0s 8ms/step - loss: 0.3490 - accuracy: 0.8871 - val_loss: 0.3503 - val_accuracy: 0.8777\n",
            "Epoch 5/100\n",
            "12/12 [==============================] - 0s 12ms/step - loss: 0.3273 - accuracy: 0.8924 - val_loss: 0.3293 - val_accuracy: 0.8989\n",
            "Epoch 6/100\n",
            "12/12 [==============================] - 0s 13ms/step - loss: 0.3093 - accuracy: 0.8976 - val_loss: 0.3104 - val_accuracy: 0.9043\n",
            "Epoch 7/100\n",
            "12/12 [==============================] - 0s 17ms/step - loss: 0.2931 - accuracy: 0.9003 - val_loss: 0.2940 - val_accuracy: 0.9043\n",
            "Epoch 8/100\n",
            "12/12 [==============================] - 0s 7ms/step - loss: 0.2789 - accuracy: 0.9160 - val_loss: 0.2800 - val_accuracy: 0.9202\n",
            "Epoch 9/100\n",
            "12/12 [==============================] - 0s 9ms/step - loss: 0.2662 - accuracy: 0.9213 - val_loss: 0.2671 - val_accuracy: 0.9255\n",
            "Epoch 10/100\n",
            "12/12 [==============================] - 0s 10ms/step - loss: 0.2546 - accuracy: 0.9239 - val_loss: 0.2556 - val_accuracy: 0.9309\n",
            "Epoch 11/100\n",
            "12/12 [==============================] - 0s 7ms/step - loss: 0.2442 - accuracy: 0.9265 - val_loss: 0.2451 - val_accuracy: 0.9309\n",
            "Epoch 12/100\n",
            "12/12 [==============================] - 0s 8ms/step - loss: 0.2348 - accuracy: 0.9370 - val_loss: 0.2360 - val_accuracy: 0.9362\n",
            "Epoch 13/100\n",
            "12/12 [==============================] - 0s 13ms/step - loss: 0.2260 - accuracy: 0.9396 - val_loss: 0.2275 - val_accuracy: 0.9362\n",
            "Epoch 14/100\n",
            "12/12 [==============================] - 0s 10ms/step - loss: 0.2179 - accuracy: 0.9396 - val_loss: 0.2198 - val_accuracy: 0.9415\n",
            "Epoch 15/100\n",
            "12/12 [==============================] - 0s 14ms/step - loss: 0.2109 - accuracy: 0.9423 - val_loss: 0.2130 - val_accuracy: 0.9415\n",
            "Epoch 16/100\n",
            "12/12 [==============================] - 0s 15ms/step - loss: 0.2039 - accuracy: 0.9449 - val_loss: 0.2065 - val_accuracy: 0.9415\n",
            "Epoch 17/100\n",
            "12/12 [==============================] - 0s 9ms/step - loss: 0.1976 - accuracy: 0.9449 - val_loss: 0.2007 - val_accuracy: 0.9468\n",
            "Epoch 18/100\n",
            "12/12 [==============================] - 0s 9ms/step - loss: 0.1917 - accuracy: 0.9501 - val_loss: 0.1951 - val_accuracy: 0.9468\n",
            "Epoch 19/100\n",
            "12/12 [==============================] - 0s 14ms/step - loss: 0.1863 - accuracy: 0.9501 - val_loss: 0.1900 - val_accuracy: 0.9468\n",
            "Epoch 20/100\n",
            "12/12 [==============================] - 0s 10ms/step - loss: 0.1812 - accuracy: 0.9501 - val_loss: 0.1855 - val_accuracy: 0.9468\n",
            "Epoch 21/100\n",
            "12/12 [==============================] - 0s 8ms/step - loss: 0.1765 - accuracy: 0.9501 - val_loss: 0.1810 - val_accuracy: 0.9468\n",
            "Epoch 22/100\n",
            "12/12 [==============================] - 0s 11ms/step - loss: 0.1722 - accuracy: 0.9501 - val_loss: 0.1769 - val_accuracy: 0.9468\n",
            "Epoch 23/100\n",
            "12/12 [==============================] - 0s 25ms/step - loss: 0.1678 - accuracy: 0.9501 - val_loss: 0.1732 - val_accuracy: 0.9468\n",
            "Epoch 24/100\n",
            "12/12 [==============================] - 0s 13ms/step - loss: 0.1642 - accuracy: 0.9501 - val_loss: 0.1696 - val_accuracy: 0.9468\n",
            "Epoch 25/100\n",
            "12/12 [==============================] - 0s 15ms/step - loss: 0.1602 - accuracy: 0.9554 - val_loss: 0.1661 - val_accuracy: 0.9468\n",
            "Epoch 26/100\n",
            "12/12 [==============================] - 0s 12ms/step - loss: 0.1567 - accuracy: 0.9554 - val_loss: 0.1630 - val_accuracy: 0.9468\n",
            "Epoch 27/100\n",
            "12/12 [==============================] - 0s 17ms/step - loss: 0.1536 - accuracy: 0.9554 - val_loss: 0.1600 - val_accuracy: 0.9468\n",
            "Epoch 28/100\n",
            "12/12 [==============================] - 0s 14ms/step - loss: 0.1504 - accuracy: 0.9554 - val_loss: 0.1571 - val_accuracy: 0.9468\n",
            "Epoch 29/100\n",
            "12/12 [==============================] - 0s 19ms/step - loss: 0.1474 - accuracy: 0.9580 - val_loss: 0.1545 - val_accuracy: 0.9468\n",
            "Epoch 30/100\n",
            "12/12 [==============================] - 0s 13ms/step - loss: 0.1449 - accuracy: 0.9580 - val_loss: 0.1520 - val_accuracy: 0.9468\n",
            "Epoch 31/100\n",
            "12/12 [==============================] - 0s 18ms/step - loss: 0.1420 - accuracy: 0.9580 - val_loss: 0.1496 - val_accuracy: 0.9468\n",
            "Epoch 32/100\n",
            "12/12 [==============================] - 0s 32ms/step - loss: 0.1398 - accuracy: 0.9580 - val_loss: 0.1473 - val_accuracy: 0.9468\n",
            "Epoch 33/100\n",
            "12/12 [==============================] - 0s 19ms/step - loss: 0.1372 - accuracy: 0.9580 - val_loss: 0.1450 - val_accuracy: 0.9468\n",
            "Epoch 34/100\n",
            "12/12 [==============================] - 0s 13ms/step - loss: 0.1350 - accuracy: 0.9580 - val_loss: 0.1431 - val_accuracy: 0.9468\n",
            "Epoch 35/100\n",
            "12/12 [==============================] - 0s 8ms/step - loss: 0.1328 - accuracy: 0.9580 - val_loss: 0.1411 - val_accuracy: 0.9468\n",
            "Epoch 36/100\n",
            "12/12 [==============================] - 0s 17ms/step - loss: 0.1308 - accuracy: 0.9580 - val_loss: 0.1392 - val_accuracy: 0.9468\n",
            "Epoch 37/100\n",
            "12/12 [==============================] - 0s 12ms/step - loss: 0.1288 - accuracy: 0.9580 - val_loss: 0.1373 - val_accuracy: 0.9468\n",
            "Epoch 38/100\n",
            "12/12 [==============================] - 0s 8ms/step - loss: 0.1271 - accuracy: 0.9580 - val_loss: 0.1356 - val_accuracy: 0.9468\n",
            "Epoch 39/100\n",
            "12/12 [==============================] - 0s 11ms/step - loss: 0.1252 - accuracy: 0.9580 - val_loss: 0.1340 - val_accuracy: 0.9468\n",
            "Epoch 40/100\n",
            "12/12 [==============================] - 0s 7ms/step - loss: 0.1236 - accuracy: 0.9580 - val_loss: 0.1323 - val_accuracy: 0.9468\n",
            "Epoch 41/100\n",
            "12/12 [==============================] - 0s 9ms/step - loss: 0.1219 - accuracy: 0.9580 - val_loss: 0.1309 - val_accuracy: 0.9468\n",
            "Epoch 42/100\n",
            "12/12 [==============================] - 0s 8ms/step - loss: 0.1205 - accuracy: 0.9606 - val_loss: 0.1294 - val_accuracy: 0.9468\n",
            "Epoch 43/100\n",
            "12/12 [==============================] - 0s 18ms/step - loss: 0.1190 - accuracy: 0.9633 - val_loss: 0.1279 - val_accuracy: 0.9468\n",
            "Epoch 44/100\n",
            "12/12 [==============================] - 0s 13ms/step - loss: 0.1176 - accuracy: 0.9633 - val_loss: 0.1266 - val_accuracy: 0.9468\n",
            "Epoch 45/100\n",
            "12/12 [==============================] - 0s 17ms/step - loss: 0.1163 - accuracy: 0.9659 - val_loss: 0.1253 - val_accuracy: 0.9468\n",
            "Epoch 46/100\n",
            "12/12 [==============================] - 0s 12ms/step - loss: 0.1149 - accuracy: 0.9685 - val_loss: 0.1241 - val_accuracy: 0.9468\n",
            "Epoch 47/100\n",
            "12/12 [==============================] - 0s 19ms/step - loss: 0.1137 - accuracy: 0.9685 - val_loss: 0.1229 - val_accuracy: 0.9468\n",
            "Epoch 48/100\n",
            "12/12 [==============================] - 0s 18ms/step - loss: 0.1126 - accuracy: 0.9711 - val_loss: 0.1217 - val_accuracy: 0.9468\n",
            "Epoch 49/100\n",
            "12/12 [==============================] - 0s 16ms/step - loss: 0.1114 - accuracy: 0.9711 - val_loss: 0.1206 - val_accuracy: 0.9468\n",
            "Epoch 50/100\n",
            "12/12 [==============================] - 0s 19ms/step - loss: 0.1103 - accuracy: 0.9711 - val_loss: 0.1195 - val_accuracy: 0.9468\n",
            "Epoch 51/100\n",
            "12/12 [==============================] - 0s 19ms/step - loss: 0.1092 - accuracy: 0.9711 - val_loss: 0.1184 - val_accuracy: 0.9468\n",
            "Epoch 52/100\n",
            "12/12 [==============================] - 0s 18ms/step - loss: 0.1083 - accuracy: 0.9711 - val_loss: 0.1175 - val_accuracy: 0.9468\n",
            "Epoch 53/100\n",
            "12/12 [==============================] - 0s 20ms/step - loss: 0.1073 - accuracy: 0.9711 - val_loss: 0.1164 - val_accuracy: 0.9521\n",
            "Epoch 54/100\n",
            "12/12 [==============================] - 0s 31ms/step - loss: 0.1063 - accuracy: 0.9711 - val_loss: 0.1154 - val_accuracy: 0.9521\n",
            "Epoch 55/100\n",
            "12/12 [==============================] - 0s 19ms/step - loss: 0.1054 - accuracy: 0.9711 - val_loss: 0.1146 - val_accuracy: 0.9521\n",
            "Epoch 56/100\n",
            "12/12 [==============================] - 0s 25ms/step - loss: 0.1045 - accuracy: 0.9711 - val_loss: 0.1138 - val_accuracy: 0.9521\n",
            "Epoch 57/100\n",
            "12/12 [==============================] - 0s 19ms/step - loss: 0.1037 - accuracy: 0.9711 - val_loss: 0.1128 - val_accuracy: 0.9521\n",
            "Epoch 58/100\n",
            "12/12 [==============================] - 0s 16ms/step - loss: 0.1028 - accuracy: 0.9711 - val_loss: 0.1120 - val_accuracy: 0.9521\n",
            "Epoch 59/100\n",
            "12/12 [==============================] - 0s 23ms/step - loss: 0.1020 - accuracy: 0.9711 - val_loss: 0.1112 - val_accuracy: 0.9521\n",
            "Epoch 60/100\n",
            "12/12 [==============================] - 0s 15ms/step - loss: 0.1012 - accuracy: 0.9711 - val_loss: 0.1105 - val_accuracy: 0.9574\n",
            "Epoch 61/100\n",
            "12/12 [==============================] - 0s 21ms/step - loss: 0.1005 - accuracy: 0.9711 - val_loss: 0.1097 - val_accuracy: 0.9574\n",
            "Epoch 62/100\n",
            "12/12 [==============================] - 0s 27ms/step - loss: 0.0997 - accuracy: 0.9738 - val_loss: 0.1090 - val_accuracy: 0.9574\n",
            "Epoch 63/100\n",
            "12/12 [==============================] - 0s 15ms/step - loss: 0.0990 - accuracy: 0.9738 - val_loss: 0.1083 - val_accuracy: 0.9574\n",
            "Epoch 64/100\n",
            "12/12 [==============================] - 0s 14ms/step - loss: 0.0984 - accuracy: 0.9738 - val_loss: 0.1075 - val_accuracy: 0.9574\n",
            "Epoch 65/100\n",
            "12/12 [==============================] - 0s 13ms/step - loss: 0.0977 - accuracy: 0.9738 - val_loss: 0.1069 - val_accuracy: 0.9574\n",
            "Epoch 66/100\n",
            "12/12 [==============================] - 0s 25ms/step - loss: 0.0970 - accuracy: 0.9738 - val_loss: 0.1062 - val_accuracy: 0.9574\n",
            "Epoch 67/100\n",
            "12/12 [==============================] - 0s 20ms/step - loss: 0.0964 - accuracy: 0.9738 - val_loss: 0.1056 - val_accuracy: 0.9574\n",
            "Epoch 68/100\n",
            "12/12 [==============================] - 0s 10ms/step - loss: 0.0958 - accuracy: 0.9738 - val_loss: 0.1050 - val_accuracy: 0.9574\n",
            "Epoch 69/100\n",
            "12/12 [==============================] - 0s 8ms/step - loss: 0.0952 - accuracy: 0.9764 - val_loss: 0.1044 - val_accuracy: 0.9574\n",
            "Epoch 70/100\n",
            "12/12 [==============================] - 0s 9ms/step - loss: 0.0946 - accuracy: 0.9764 - val_loss: 0.1038 - val_accuracy: 0.9574\n",
            "Epoch 71/100\n",
            "12/12 [==============================] - 0s 12ms/step - loss: 0.0940 - accuracy: 0.9764 - val_loss: 0.1032 - val_accuracy: 0.9574\n",
            "Epoch 72/100\n",
            "12/12 [==============================] - 0s 7ms/step - loss: 0.0935 - accuracy: 0.9764 - val_loss: 0.1027 - val_accuracy: 0.9574\n",
            "Epoch 73/100\n",
            "12/12 [==============================] - 0s 7ms/step - loss: 0.0930 - accuracy: 0.9764 - val_loss: 0.1020 - val_accuracy: 0.9574\n",
            "Epoch 74/100\n",
            "12/12 [==============================] - 0s 8ms/step - loss: 0.0924 - accuracy: 0.9764 - val_loss: 0.1015 - val_accuracy: 0.9574\n",
            "Epoch 75/100\n",
            "12/12 [==============================] - 0s 18ms/step - loss: 0.0920 - accuracy: 0.9764 - val_loss: 0.1012 - val_accuracy: 0.9574\n",
            "Epoch 76/100\n",
            "12/12 [==============================] - 0s 10ms/step - loss: 0.0914 - accuracy: 0.9764 - val_loss: 0.1006 - val_accuracy: 0.9574\n",
            "Epoch 77/100\n",
            "12/12 [==============================] - 0s 11ms/step - loss: 0.0909 - accuracy: 0.9764 - val_loss: 0.1001 - val_accuracy: 0.9574\n",
            "Epoch 78/100\n",
            "12/12 [==============================] - 0s 7ms/step - loss: 0.0905 - accuracy: 0.9764 - val_loss: 0.0996 - val_accuracy: 0.9574\n",
            "Epoch 79/100\n",
            "12/12 [==============================] - 0s 9ms/step - loss: 0.0900 - accuracy: 0.9764 - val_loss: 0.0991 - val_accuracy: 0.9574\n",
            "Epoch 80/100\n",
            "12/12 [==============================] - 0s 7ms/step - loss: 0.0896 - accuracy: 0.9764 - val_loss: 0.0986 - val_accuracy: 0.9574\n",
            "Epoch 81/100\n",
            "12/12 [==============================] - 0s 8ms/step - loss: 0.0891 - accuracy: 0.9764 - val_loss: 0.0982 - val_accuracy: 0.9574\n",
            "Epoch 82/100\n",
            "12/12 [==============================] - 0s 12ms/step - loss: 0.0887 - accuracy: 0.9764 - val_loss: 0.0979 - val_accuracy: 0.9574\n",
            "Epoch 83/100\n",
            "12/12 [==============================] - 0s 20ms/step - loss: 0.0883 - accuracy: 0.9764 - val_loss: 0.0973 - val_accuracy: 0.9574\n",
            "Epoch 84/100\n",
            "12/12 [==============================] - 0s 24ms/step - loss: 0.0878 - accuracy: 0.9764 - val_loss: 0.0969 - val_accuracy: 0.9574\n",
            "Epoch 85/100\n",
            "12/12 [==============================] - 0s 14ms/step - loss: 0.0874 - accuracy: 0.9764 - val_loss: 0.0965 - val_accuracy: 0.9574\n",
            "Epoch 86/100\n",
            "12/12 [==============================] - 0s 9ms/step - loss: 0.0870 - accuracy: 0.9764 - val_loss: 0.0962 - val_accuracy: 0.9574\n",
            "Epoch 87/100\n",
            "12/12 [==============================] - 0s 6ms/step - loss: 0.0866 - accuracy: 0.9764 - val_loss: 0.0957 - val_accuracy: 0.9574\n",
            "Epoch 88/100\n",
            "12/12 [==============================] - 0s 6ms/step - loss: 0.0862 - accuracy: 0.9764 - val_loss: 0.0954 - val_accuracy: 0.9574\n",
            "Epoch 89/100\n",
            "12/12 [==============================] - 0s 5ms/step - loss: 0.0859 - accuracy: 0.9790 - val_loss: 0.0950 - val_accuracy: 0.9574\n",
            "Epoch 90/100\n",
            "12/12 [==============================] - 0s 5ms/step - loss: 0.0855 - accuracy: 0.9790 - val_loss: 0.0946 - val_accuracy: 0.9574\n",
            "Epoch 91/100\n",
            "12/12 [==============================] - 0s 4ms/step - loss: 0.0852 - accuracy: 0.9790 - val_loss: 0.0943 - val_accuracy: 0.9574\n",
            "Epoch 92/100\n",
            "12/12 [==============================] - 0s 6ms/step - loss: 0.0848 - accuracy: 0.9790 - val_loss: 0.0939 - val_accuracy: 0.9574\n",
            "Epoch 93/100\n",
            "12/12 [==============================] - 0s 5ms/step - loss: 0.0845 - accuracy: 0.9790 - val_loss: 0.0935 - val_accuracy: 0.9574\n",
            "Epoch 94/100\n",
            "12/12 [==============================] - 0s 4ms/step - loss: 0.0841 - accuracy: 0.9790 - val_loss: 0.0932 - val_accuracy: 0.9574\n",
            "Epoch 95/100\n",
            "12/12 [==============================] - 0s 6ms/step - loss: 0.0838 - accuracy: 0.9790 - val_loss: 0.0929 - val_accuracy: 0.9574\n",
            "Epoch 96/100\n",
            "12/12 [==============================] - 0s 7ms/step - loss: 0.0835 - accuracy: 0.9790 - val_loss: 0.0925 - val_accuracy: 0.9574\n",
            "Epoch 97/100\n",
            "12/12 [==============================] - 0s 6ms/step - loss: 0.0831 - accuracy: 0.9790 - val_loss: 0.0922 - val_accuracy: 0.9574\n",
            "Epoch 98/100\n",
            "12/12 [==============================] - 0s 6ms/step - loss: 0.0828 - accuracy: 0.9790 - val_loss: 0.0919 - val_accuracy: 0.9574\n",
            "Epoch 99/100\n",
            "12/12 [==============================] - 0s 6ms/step - loss: 0.0825 - accuracy: 0.9790 - val_loss: 0.0916 - val_accuracy: 0.9574\n",
            "Epoch 100/100\n",
            "12/12 [==============================] - 0s 6ms/step - loss: 0.0822 - accuracy: 0.9790 - val_loss: 0.0912 - val_accuracy: 0.9628\n"
          ]
        }
      ]
    },
    {
      "cell_type": "code",
      "source": [
        "print(\"Training score:\", model.evaluate(X_train, y_train))\n",
        "print(\"Test score:\", model.evaluate(X_test, y_test))"
      ],
      "metadata": {
        "colab": {
          "base_uri": "https://localhost:8080/"
        },
        "id": "O9ocUAxFAiVX",
        "outputId": "be6741c3-6947-4acc-9837-e4181aeb08a4"
      },
      "execution_count": 24,
      "outputs": [
        {
          "output_type": "stream",
          "name": "stdout",
          "text": [
            "12/12 [==============================] - 0s 2ms/step - loss: 0.0820 - accuracy: 0.9790\n",
            "Training score: [0.08202103525400162, 0.9790025949478149]\n",
            "6/6 [==============================] - 0s 2ms/step - loss: 0.0912 - accuracy: 0.9628\n",
            "Test score: [0.0912400335073471, 0.9627659320831299]\n"
          ]
        }
      ]
    },
    {
      "cell_type": "code",
      "source": [
        "import matplotlib.pyplot as plt\n",
        "plt.plot(r.history['loss'], label='loss')\n",
        "plt.plot(r.history['val_loss'], label='loss_loss')\n",
        "plt.legend()"
      ],
      "metadata": {
        "colab": {
          "base_uri": "https://localhost:8080/",
          "height": 467
        },
        "id": "pUW6_mKXAiY2",
        "outputId": "f9589e8e-42ea-40ad-966a-dda2f215fecb"
      },
      "execution_count": 25,
      "outputs": [
        {
          "output_type": "execute_result",
          "data": {
            "text/plain": [
              "<matplotlib.legend.Legend at 0x79db45223a60>"
            ]
          },
          "metadata": {},
          "execution_count": 25
        },
        {
          "output_type": "display_data",
          "data": {
            "text/plain": [
              "<Figure size 640x480 with 1 Axes>"
            ],
            "image/png": "[encoded data removed]"
          },
          "metadata": {}
        }
      ]
    },
    {
      "cell_type": "code",
      "source": [
        "plt.plot(r.history['accuracy'], label='acc')\n",
        "plt.plot(r.history['val_accuracy'], label='val_acc')\n",
        "plt.legend();"
      ],
      "metadata": {
        "colab": {
          "base_uri": "https://localhost:8080/",
          "height": 450
        },
        "id": "2R8_NhdkAicU",
        "outputId": "8c371516-2b6e-4083-8af3-1138fb50b2ab"
      },
      "execution_count": 26,
      "outputs": [
        {
          "output_type": "display_data",
          "data": {
            "text/plain": [
              "<Figure size 640x480 with 1 Axes>"
            ],
            "image/png": "[encoded data removed]"
          },
          "metadata": {}
        }
      ]
    },
    {
      "cell_type": "code",
      "source": [],
      "metadata": {
        "id": "2t9U6WnM_oql"
      },
      "execution_count": 26,
      "outputs": []
    },
    {
      "cell_type": "markdown",
      "source": [
        "#Making Prediction"
      ],
      "metadata": {
        "id": "Y8Q7p1MOhIkh"
      }
    },
    {
      "cell_type": "code",
      "source": [
        "\n",
        "\n",
        "# Make predictions\n",
        "P = model.predict(X_test)\n",
        "print(P) # they are outputs of the sigmoid, interpreted as probabilities p(y = 1 | x)\n",
        "\n"
      ],
      "metadata": {
        "id": "xIfxeQHDReSE",
        "colab": {
          "base_uri": "https://localhost:8080/"
        },
        "outputId": "e33b0f63-8c8a-42e8-a0f2-eda11ddc62c3"
      },
      "execution_count": 27,
      "outputs": [
        {
          "output_type": "stream",
          "name": "stdout",
          "text": [
            "6/6 [==============================] - 0s 3ms/step\n",
            "[[9.9920261e-01]\n",
            " [9.9655962e-01]\n",
            " [5.7595402e-02]\n",
            " [7.3784664e-02]\n",
            " [2.1509207e-03]\n",
            " [2.5631068e-03]\n",
            " [6.0762407e-04]\n",
            " [4.9977221e-02]\n",
            " [5.3165737e-03]\n",
            " [8.0020916e-01]\n",
            " [8.0333167e-01]\n",
            " [2.8953670e-02]\n",
            " [9.9364835e-01]\n",
            " [9.9654293e-01]\n",
            " [3.2419935e-04]\n",
            " [9.9963909e-01]\n",
            " [9.3215048e-01]\n",
            " [2.2262867e-01]\n",
            " [5.0194305e-03]\n",
            " [9.6166551e-01]\n",
            " [9.9876809e-01]\n",
            " [7.6279903e-05]\n",
            " [6.9878435e-05]\n",
            " [9.9928385e-01]\n",
            " [3.7166954e-09]\n",
            " [2.5562986e-04]\n",
            " [1.7615396e-01]\n",
            " [4.3014891e-04]\n",
            " [5.1955372e-02]\n",
            " [8.4180468e-01]\n",
            " [8.0969459e-01]\n",
            " [8.4768916e-03]\n",
            " [5.8024585e-01]\n",
            " [1.0395448e-03]\n",
            " [9.3878186e-01]\n",
            " [9.6154022e-01]\n",
            " [4.8107721e-02]\n",
            " [9.8526567e-01]\n",
            " [9.9501961e-01]\n",
            " [9.9846762e-01]\n",
            " [9.9946576e-01]\n",
            " [7.9243815e-01]\n",
            " [1.3128221e-06]\n",
            " [9.5275056e-01]\n",
            " [9.9823236e-01]\n",
            " [2.2622289e-03]\n",
            " [9.8085058e-01]\n",
            " [9.9992496e-01]\n",
            " [3.0372353e-02]\n",
            " [8.5096598e-01]\n",
            " [9.9978518e-01]\n",
            " [8.0783749e-01]\n",
            " [1.6303122e-03]\n",
            " [9.9962145e-01]\n",
            " [9.6855646e-01]\n",
            " [2.4997955e-04]\n",
            " [9.9684137e-01]\n",
            " [4.7414389e-01]\n",
            " [4.1112438e-01]\n",
            " [6.5051764e-01]\n",
            " [9.9969703e-01]\n",
            " [7.7044354e-03]\n",
            " [9.8923993e-01]\n",
            " [9.7256142e-01]\n",
            " [9.9863684e-01]\n",
            " [9.8095864e-01]\n",
            " [1.1462975e-04]\n",
            " [5.4630136e-01]\n",
            " [9.7463959e-01]\n",
            " [5.7660826e-03]\n",
            " [1.2365124e-02]\n",
            " [7.0071638e-01]\n",
            " [2.3687769e-04]\n",
            " [8.5446995e-01]\n",
            " [9.9515778e-01]\n",
            " [9.6848756e-01]\n",
            " [9.9211699e-01]\n",
            " [9.6711451e-01]\n",
            " [9.9947834e-01]\n",
            " [5.9637874e-03]\n",
            " [9.4424349e-01]\n",
            " [9.9896252e-01]\n",
            " [8.7573773e-01]\n",
            " [3.1668320e-04]\n",
            " [2.7360044e-02]\n",
            " [9.9541551e-01]\n",
            " [9.9223429e-01]\n",
            " [9.9637532e-01]\n",
            " [9.9487859e-01]\n",
            " [9.9197477e-01]\n",
            " [9.9944067e-01]\n",
            " [9.8764008e-01]\n",
            " [9.9072868e-01]\n",
            " [5.0647743e-02]\n",
            " [1.4104673e-02]\n",
            " [2.4985741e-01]\n",
            " [6.9561577e-01]\n",
            " [9.8587680e-01]\n",
            " [8.9731497e-01]\n",
            " [9.9606502e-01]\n",
            " [9.9996948e-01]\n",
            " [7.7895546e-01]\n",
            " [1.3190228e-02]\n",
            " [9.9993503e-01]\n",
            " [9.9966788e-01]\n",
            " [5.0645292e-01]\n",
            " [9.7584701e-01]\n",
            " [9.9857610e-01]\n",
            " [9.9827141e-01]\n",
            " [9.9066061e-01]\n",
            " [8.7181077e-04]\n",
            " [4.6380460e-01]\n",
            " [7.8021094e-07]\n",
            " [8.3722627e-01]\n",
            " [9.0440470e-01]\n",
            " [8.7958634e-01]\n",
            " [9.9203789e-01]\n",
            " [9.3810242e-01]\n",
            " [9.9872673e-01]\n",
            " [9.9985999e-01]\n",
            " [9.9777013e-01]\n",
            " [4.2027157e-02]\n",
            " [5.2465363e-03]\n",
            " [9.0946615e-02]\n",
            " [5.7368339e-05]\n",
            " [3.8555112e-02]\n",
            " [4.4683003e-07]\n",
            " [2.2848102e-01]\n",
            " [9.9329644e-01]\n",
            " [9.9176085e-01]\n",
            " [9.9909824e-01]\n",
            " [9.9240172e-01]\n",
            " [9.9438763e-01]\n",
            " [1.2982158e-05]\n",
            " [9.8371542e-01]\n",
            " [9.9445635e-01]\n",
            " [9.9992025e-01]\n",
            " [9.9481934e-01]\n",
            " [9.9443519e-01]\n",
            " [9.9908084e-01]\n",
            " [9.7278285e-01]\n",
            " [4.9931321e-01]\n",
            " [9.9324811e-01]\n",
            " [1.3196610e-03]\n",
            " [9.1520929e-01]\n",
            " [9.9068511e-01]\n",
            " [9.9367845e-01]\n",
            " [9.4144791e-01]\n",
            " [9.9613202e-01]\n",
            " [9.9936652e-01]\n",
            " [6.0287658e-03]\n",
            " [9.8781323e-01]\n",
            " [4.3570116e-04]\n",
            " [2.9817844e-02]\n",
            " [9.9933082e-01]\n",
            " [9.9724847e-01]\n",
            " [7.9366726e-01]\n",
            " [9.9472117e-01]\n",
            " [9.0668648e-01]\n",
            " [2.5241720e-03]\n",
            " [9.9943978e-01]\n",
            " [9.9475646e-01]\n",
            " [9.9566370e-01]\n",
            " [9.9879175e-01]\n",
            " [9.9861854e-01]\n",
            " [9.9942297e-01]\n",
            " [1.3984730e-03]\n",
            " [9.9830437e-01]\n",
            " [7.6188809e-01]\n",
            " [1.3513831e-04]\n",
            " [8.8453269e-01]\n",
            " [9.9723572e-01]\n",
            " [1.1581178e-02]\n",
            " [6.9389438e-07]\n",
            " [9.9598247e-01]\n",
            " [6.9846529e-01]\n",
            " [9.9992126e-01]\n",
            " [2.4417392e-04]\n",
            " [9.9722522e-01]\n",
            " [1.4610520e-01]\n",
            " [8.5676306e-01]\n",
            " [9.3493499e-02]\n",
            " [9.0582532e-01]\n",
            " [9.9784034e-01]\n",
            " [7.2861333e-08]\n",
            " [9.8620415e-01]\n",
            " [9.9890238e-01]\n",
            " [5.0792057e-02]]\n"
          ]
        }
      ]
    },
    {
      "cell_type": "code",
      "source": [
        "# Round to get the actual predictions\n",
        "# Note: has to be flattened since the targets are size (N,) while the predictions are size (N,1)\n",
        "import numpy as np\n",
        "P = np.round(P).flatten()\n",
        "print(P)"
      ],
      "metadata": {
        "id": "ZCqrl9B5_os8",
        "colab": {
          "base_uri": "https://localhost:8080/"
        },
        "outputId": "fbbe2339-641d-493c-f736-8fa52af4e565"
      },
      "execution_count": 28,
      "outputs": [
        {
          "output_type": "stream",
          "name": "stdout",
          "text": [
            "[1. 1. 0. 0. 0. 0. 0. 0. 0. 1. 1. 0. 1. 1. 0. 1. 1. 0. 0. 1. 1. 0. 0. 1.\n",
            " 0. 0. 0. 0. 0. 1. 1. 0. 1. 0. 1. 1. 0. 1. 1. 1. 1. 1. 0. 1. 1. 0. 1. 1.\n",
            " 0. 1. 1. 1. 0. 1. 1. 0. 1. 0. 0. 1. 1. 0. 1. 1. 1. 1. 0. 1. 1. 0. 0. 1.\n",
            " 0. 1. 1. 1. 1. 1. 1. 0. 1. 1. 1. 0. 0. 1. 1. 1. 1. 1. 1. 1. 1. 0. 0. 0.\n",
            " 1. 1. 1. 1. 1. 1. 0. 1. 1. 1. 1. 1. 1. 1. 0. 0. 0. 1. 1. 1. 1. 1. 1. 1.\n",
            " 1. 0. 0. 0. 0. 0. 0. 0. 1. 1. 1. 1. 1. 0. 1. 1. 1. 1. 1. 1. 1. 0. 1. 0.\n",
            " 1. 1. 1. 1. 1. 1. 0. 1. 0. 0. 1. 1. 1. 1. 1. 0. 1. 1. 1. 1. 1. 1. 0. 1.\n",
            " 1. 0. 1. 1. 0. 0. 1. 1. 1. 0. 1. 0. 1. 0. 1. 1. 0. 1. 1. 0.]\n"
          ]
        }
      ]
    },
    {
      "cell_type": "code",
      "source": [
        "# Calculate the accuracy, compare it to evaluate() output\n",
        "print(\"Manually calculated accuracy:\", np.mean(P == y_test))\n",
        "print(\"Evaluate output:\", model.evaluate(X_test, y_test))"
      ],
      "metadata": {
        "id": "3swyoil0_ovB",
        "colab": {
          "base_uri": "https://localhost:8080/"
        },
        "outputId": "7484bdcc-4067-4c7a-fe34-609b7f61e02a"
      },
      "execution_count": 29,
      "outputs": [
        {
          "output_type": "stream",
          "name": "stdout",
          "text": [
            "Manually calculated accuracy: 0.9627659574468085\n",
            "6/6 [==============================] - 0s 4ms/step - loss: 0.0912 - accuracy: 0.9628\n",
            "Evaluate output: [0.0912400335073471, 0.9627659320831299]\n"
          ]
        }
      ]
    },
    {
      "cell_type": "code",
      "source": [],
      "metadata": {
        "id": "uhiTXQaF_oxM"
      },
      "execution_count": 27,
      "outputs": []
    },
    {
      "cell_type": "code",
      "source": [],
      "metadata": {
        "id": "Qh8tADKD7Ftc"
      },
      "execution_count": 27,
      "outputs": []
    },
    {
      "cell_type": "code",
      "source": [],
      "metadata": {
        "id": "0CcjyzzJ5_JF"
      },
      "execution_count": 27,
      "outputs": []
    }
  ]
}