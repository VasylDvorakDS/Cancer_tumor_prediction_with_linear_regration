{
  "nbformat": 4,
  "nbformat_minor": 0,
  "metadata": {
    "colab": {
      "provenance": [],
      "authorship_tag": "ABX9TyMssxawAouuo7TjuipWLaLt",
      "include_colab_link": true
    },
    "kernelspec": {
      "name": "python3",
      "display_name": "Python 3"
    },
    "language_info": {
      "name": "python"
    }
  },
  "cells": [
    {
      "cell_type": "markdown",
      "metadata": {
        "id": "view-in-github",
        "colab_type": "text"
      },
      "source": [
        "<a href=\"https://colab.research.google.com/github/VasylDvorakDS/Cancer_tumor_prediction_with_linear_regration/blob/master/Cancer_tumor_prediction.ipynb\" target=\"_parent\"><img src=\"https://colab.research.google.com/assets/colab-badge.svg\" alt=\"Open In Colab\"/></a>"
      ]
    },
    {
      "cell_type": "code",
      "execution_count": 30,
      "metadata": {
        "colab": {
          "base_uri": "https://localhost:8080/"
        },
        "id": "9EsQs4sj321l",
        "outputId": "edd8c894-9915-4c01-e2d7-0069d373ce1e"
      },
      "outputs": [
        {
          "output_type": "stream",
          "name": "stdout",
          "text": [
            "Colab only includes TensorFlow 2.x; %tensorflow_version has no effect.\n",
            "2.15.0\n"
          ]
        }
      ],
      "source": [
        "try:\n",
        "  %tensorflow_version 2.x\n",
        "except Exception:\n",
        "  pass\n",
        "\n",
        "import  tensorflow as tf\n",
        "print(tf.__version__)"
      ]
    },
    {
      "cell_type": "code",
      "source": [
        "from sklearn.datasets import load_breast_cancer"
      ],
      "metadata": {
        "id": "XONBT08J4mBi"
      },
      "execution_count": 31,
      "outputs": []
    },
    {
      "cell_type": "code",
      "source": [
        "data =  load_breast_cancer()"
      ],
      "metadata": {
        "id": "UstwMYc85-14"
      },
      "execution_count": 32,
      "outputs": []
    },
    {
      "cell_type": "code",
      "source": [
        "data"
      ],
      "metadata": {
        "colab": {
          "base_uri": "https://localhost:8080/"
        },
        "id": "h_9MHRJ-5-5X",
        "outputId": "7adc4985-43eb-4e78-e6f8-876403ee8e75"
      },
      "execution_count": 33,
      "outputs": [
        {
          "output_type": "execute_result",
          "data": {
            "text/plain": [
              "{'data': array([[1.799e+01, 1.038e+01, 1.228e+02, ..., 2.654e-01, 4.601e-01,\n",
              "         1.189e-01],\n",
              "        [2.057e+01, 1.777e+01, 1.329e+02, ..., 1.860e-01, 2.750e-01,\n",
              "         8.902e-02],\n",
              "        [1.969e+01, 2.125e+01, 1.300e+02, ..., 2.430e-01, 3.613e-01,\n",
              "         8.758e-02],\n",
              "        ...,\n",
              "        [1.660e+01, 2.808e+01, 1.083e+02, ..., 1.418e-01, 2.218e-01,\n",
              "         7.820e-02],\n",
              "        [2.060e+01, 2.933e+01, 1.401e+02, ..., 2.650e-01, 4.087e-01,\n",
              "         1.240e-01],\n",
              "        [7.760e+00, 2.454e+01, 4.792e+01, ..., 0.000e+00, 2.871e-01,\n",
              "         7.039e-02]]),\n",
              " 'target': array([0, 0, 0, 0, 0, 0, 0, 0, 0, 0, 0, 0, 0, 0, 0, 0, 0, 0, 0, 1, 1, 1,\n",
              "        0, 0, 0, 0, 0, 0, 0, 0, 0, 0, 0, 0, 0, 0, 0, 1, 0, 0, 0, 0, 0, 0,\n",
              "        0, 0, 1, 0, 1, 1, 1, 1, 1, 0, 0, 1, 0, 0, 1, 1, 1, 1, 0, 1, 0, 0,\n",
              "        1, 1, 1, 1, 0, 1, 0, 0, 1, 0, 1, 0, 0, 1, 1, 1, 0, 0, 1, 0, 0, 0,\n",
              "        1, 1, 1, 0, 1, 1, 0, 0, 1, 1, 1, 0, 0, 1, 1, 1, 1, 0, 1, 1, 0, 1,\n",
              "        1, 1, 1, 1, 1, 1, 1, 0, 0, 0, 1, 0, 0, 1, 1, 1, 0, 0, 1, 0, 1, 0,\n",
              "        0, 1, 0, 0, 1, 1, 0, 1, 1, 0, 1, 1, 1, 1, 0, 1, 1, 1, 1, 1, 1, 1,\n",
              "        1, 1, 0, 1, 1, 1, 1, 0, 0, 1, 0, 1, 1, 0, 0, 1, 1, 0, 0, 1, 1, 1,\n",
              "        1, 0, 1, 1, 0, 0, 0, 1, 0, 1, 0, 1, 1, 1, 0, 1, 1, 0, 0, 1, 0, 0,\n",
              "        0, 0, 1, 0, 0, 0, 1, 0, 1, 0, 1, 1, 0, 1, 0, 0, 0, 0, 1, 1, 0, 0,\n",
              "        1, 1, 1, 0, 1, 1, 1, 1, 1, 0, 0, 1, 1, 0, 1, 1, 0, 0, 1, 0, 1, 1,\n",
              "        1, 1, 0, 1, 1, 1, 1, 1, 0, 1, 0, 0, 0, 0, 0, 0, 0, 0, 0, 0, 0, 0,\n",
              "        0, 0, 1, 1, 1, 1, 1, 1, 0, 1, 0, 1, 1, 0, 1, 1, 0, 1, 0, 0, 1, 1,\n",
              "        1, 1, 1, 1, 1, 1, 1, 1, 1, 1, 1, 0, 1, 1, 0, 1, 0, 1, 1, 1, 1, 1,\n",
              "        1, 1, 1, 1, 1, 1, 1, 1, 1, 0, 1, 1, 1, 0, 1, 0, 1, 1, 1, 1, 0, 0,\n",
              "        0, 1, 1, 1, 1, 0, 1, 0, 1, 0, 1, 1, 1, 0, 1, 1, 1, 1, 1, 1, 1, 0,\n",
              "        0, 0, 1, 1, 1, 1, 1, 1, 1, 1, 1, 1, 1, 0, 0, 1, 0, 0, 0, 1, 0, 0,\n",
              "        1, 1, 1, 1, 1, 0, 1, 1, 1, 1, 1, 0, 1, 1, 1, 0, 1, 1, 0, 0, 1, 1,\n",
              "        1, 1, 1, 1, 0, 1, 1, 1, 1, 1, 1, 1, 0, 1, 1, 1, 1, 1, 0, 1, 1, 0,\n",
              "        1, 1, 1, 1, 1, 1, 1, 1, 1, 1, 1, 1, 0, 1, 0, 0, 1, 0, 1, 1, 1, 1,\n",
              "        1, 0, 1, 1, 0, 1, 0, 1, 1, 0, 1, 0, 1, 1, 1, 1, 1, 1, 1, 1, 0, 0,\n",
              "        1, 1, 1, 1, 1, 1, 0, 1, 1, 1, 1, 1, 1, 1, 1, 1, 1, 0, 1, 1, 1, 1,\n",
              "        1, 1, 1, 0, 1, 0, 1, 1, 0, 1, 1, 1, 1, 1, 0, 0, 1, 0, 1, 0, 1, 1,\n",
              "        1, 1, 1, 0, 1, 1, 0, 1, 0, 1, 0, 0, 1, 1, 1, 0, 1, 1, 1, 1, 1, 1,\n",
              "        1, 1, 1, 1, 1, 0, 1, 0, 0, 1, 1, 1, 1, 1, 1, 1, 1, 1, 1, 1, 1, 1,\n",
              "        1, 1, 1, 1, 1, 1, 1, 1, 1, 1, 1, 1, 0, 0, 0, 0, 0, 0, 1]),\n",
              " 'frame': None,\n",
              " 'target_names': array(['malignant', 'benign'], dtype='<U9'),\n",
              " 'DESCR': '.. _breast_cancer_dataset:\\n\\nBreast cancer wisconsin (diagnostic) dataset\\n--------------------------------------------\\n\\n**Data Set Characteristics:**\\n\\n    :Number of Instances: 569\\n\\n    :Number of Attributes: 30 numeric, predictive attributes and the class\\n\\n    :Attribute Information:\\n        - radius (mean of distances from center to points on the perimeter)\\n        - texture (standard deviation of gray-scale values)\\n        - perimeter\\n        - area\\n        - smoothness (local variation in radius lengths)\\n        - compactness (perimeter^2 / area - 1.0)\\n        - concavity (severity of concave portions of the contour)\\n        - concave points (number of concave portions of the contour)\\n        - symmetry\\n        - fractal dimension (\"coastline approximation\" - 1)\\n\\n        The mean, standard error, and \"worst\" or largest (mean of the three\\n        worst/largest values) of these features were computed for each image,\\n        resulting in 30 features.  For instance, field 0 is Mean Radius, field\\n        10 is Radius SE, field 20 is Worst Radius.\\n\\n        - class:\\n                - WDBC-Malignant\\n                - WDBC-Benign\\n\\n    :Summary Statistics:\\n\\n    ===================================== ====== ======\\n                                           Min    Max\\n    ===================================== ====== ======\\n    radius (mean):                        6.981  28.11\\n    texture (mean):                       9.71   39.28\\n    perimeter (mean):                     43.79  188.5\\n    area (mean):                          143.5  2501.0\\n    smoothness (mean):                    0.053  0.163\\n    compactness (mean):                   0.019  0.345\\n    concavity (mean):                     0.0    0.427\\n    concave points (mean):                0.0    0.201\\n    symmetry (mean):                      0.106  0.304\\n    fractal dimension (mean):             0.05   0.097\\n    radius (standard error):              0.112  2.873\\n    texture (standard error):             0.36   4.885\\n    perimeter (standard error):           0.757  21.98\\n    area (standard error):                6.802  542.2\\n    smoothness (standard error):          0.002  0.031\\n    compactness (standard error):         0.002  0.135\\n    concavity (standard error):           0.0    0.396\\n    concave points (standard error):      0.0    0.053\\n    symmetry (standard error):            0.008  0.079\\n    fractal dimension (standard error):   0.001  0.03\\n    radius (worst):                       7.93   36.04\\n    texture (worst):                      12.02  49.54\\n    perimeter (worst):                    50.41  251.2\\n    area (worst):                         185.2  4254.0\\n    smoothness (worst):                   0.071  0.223\\n    compactness (worst):                  0.027  1.058\\n    concavity (worst):                    0.0    1.252\\n    concave points (worst):               0.0    0.291\\n    symmetry (worst):                     0.156  0.664\\n    fractal dimension (worst):            0.055  0.208\\n    ===================================== ====== ======\\n\\n    :Missing Attribute Values: None\\n\\n    :Class Distribution: 212 - Malignant, 357 - Benign\\n\\n    :Creator:  Dr. William H. Wolberg, W. Nick Street, Olvi L. Mangasarian\\n\\n    :Donor: Nick Street\\n\\n    :Date: November, 1995\\n\\nThis is a copy of UCI ML Breast Cancer Wisconsin (Diagnostic) datasets.\\nhttps://goo.gl/U2Uwz2\\n\\nFeatures are computed from a digitized image of a fine needle\\naspirate (FNA) of a breast mass.  They describe\\ncharacteristics of the cell nuclei present in the image.\\n\\nSeparating plane described above was obtained using\\nMultisurface Method-Tree (MSM-T) [K. P. Bennett, \"Decision Tree\\nConstruction Via Linear Programming.\" Proceedings of the 4th\\nMidwest Artificial Intelligence and Cognitive Science Society,\\npp. 97-101, 1992], a classification method which uses linear\\nprogramming to construct a decision tree.  Relevant features\\nwere selected using an exhaustive search in the space of 1-4\\nfeatures and 1-3 separating planes.\\n\\nThe actual linear program used to obtain the separating plane\\nin the 3-dimensional space is that described in:\\n[K. P. Bennett and O. L. Mangasarian: \"Robust Linear\\nProgramming Discrimination of Two Linearly Inseparable Sets\",\\nOptimization Methods and Software 1, 1992, 23-34].\\n\\nThis database is also available through the UW CS ftp server:\\n\\nftp ftp.cs.wisc.edu\\ncd math-prog/cpo-dataset/machine-learn/WDBC/\\n\\n.. topic:: References\\n\\n   - W.N. Street, W.H. Wolberg and O.L. Mangasarian. Nuclear feature extraction \\n     for breast tumor diagnosis. IS&T/SPIE 1993 International Symposium on \\n     Electronic Imaging: Science and Technology, volume 1905, pages 861-870,\\n     San Jose, CA, 1993.\\n   - O.L. Mangasarian, W.N. Street and W.H. Wolberg. Breast cancer diagnosis and \\n     prognosis via linear programming. Operations Research, 43(4), pages 570-577, \\n     July-August 1995.\\n   - W.H. Wolberg, W.N. Street, and O.L. Mangasarian. Machine learning techniques\\n     to diagnose breast cancer from fine-needle aspirates. Cancer Letters 77 (1994) \\n     163-171.',\n",
              " 'feature_names': array(['mean radius', 'mean texture', 'mean perimeter', 'mean area',\n",
              "        'mean smoothness', 'mean compactness', 'mean concavity',\n",
              "        'mean concave points', 'mean symmetry', 'mean fractal dimension',\n",
              "        'radius error', 'texture error', 'perimeter error', 'area error',\n",
              "        'smoothness error', 'compactness error', 'concavity error',\n",
              "        'concave points error', 'symmetry error',\n",
              "        'fractal dimension error', 'worst radius', 'worst texture',\n",
              "        'worst perimeter', 'worst area', 'worst smoothness',\n",
              "        'worst compactness', 'worst concavity', 'worst concave points',\n",
              "        'worst symmetry', 'worst fractal dimension'], dtype='<U23'),\n",
              " 'filename': 'breast_cancer.csv',\n",
              " 'data_module': 'sklearn.datasets.data'}"
            ]
          },
          "metadata": {},
          "execution_count": 33
        }
      ]
    },
    {
      "cell_type": "code",
      "source": [
        "type(data)"
      ],
      "metadata": {
        "colab": {
          "base_uri": "https://localhost:8080/",
          "height": 206
        },
        "id": "nhT8PXpz5-8W",
        "outputId": "383092f9-23c6-45e8-c694-db02bb726ea5"
      },
      "execution_count": 34,
      "outputs": [
        {
          "output_type": "execute_result",
          "data": {
            "text/plain": [
              "sklearn.utils._bunch.Bunch"
            ],
            "text/html": [
              "<div style=\"max-width:800px; border: 1px solid var(--colab-border-color);\"><style>\n",
              "      pre.function-repr-contents {\n",
              "        overflow-x: auto;\n",
              "        padding: 8px 12px;\n",
              "        max-height: 500px;\n",
              "      }\n",
              "\n",
              "      pre.function-repr-contents.function-repr-contents-collapsed {\n",
              "        cursor: pointer;\n",
              "        max-height: 100px;\n",
              "      }\n",
              "    </style>\n",
              "    <pre style=\"white-space: initial; background:\n",
              "         var(--colab-secondary-surface-color); padding: 8px 12px;\n",
              "         border-bottom: 1px solid var(--colab-border-color);\"><b>sklearn.utils._bunch.Bunch</b><br/>def __init__(**kwargs)</pre><pre class=\"function-repr-contents function-repr-contents-collapsed\" style=\"\"><a class=\"filepath\" style=\"display:none\" href=\"#\">/usr/local/lib/python3.10/dist-packages/sklearn/utils/_bunch.py</a>Container object exposing keys as attributes.\n",
              "\n",
              "Bunch objects are sometimes used as an output for functions and methods.\n",
              "They extend dictionaries by enabling values to be accessed by key,\n",
              "`bunch[&quot;value_key&quot;]`, or by an attribute, `bunch.value_key`.\n",
              "\n",
              "Examples\n",
              "--------\n",
              "&gt;&gt;&gt; from sklearn.utils import Bunch\n",
              "&gt;&gt;&gt; b = Bunch(a=1, b=2)\n",
              "&gt;&gt;&gt; b[&#x27;b&#x27;]\n",
              "2\n",
              "&gt;&gt;&gt; b.b\n",
              "2\n",
              "&gt;&gt;&gt; b.a = 3\n",
              "&gt;&gt;&gt; b[&#x27;a&#x27;]\n",
              "3\n",
              "&gt;&gt;&gt; b.c = 6\n",
              "&gt;&gt;&gt; b[&#x27;c&#x27;]\n",
              "6</pre>\n",
              "      <script>\n",
              "      if (google.colab.kernel.accessAllowed && google.colab.files && google.colab.files.view) {\n",
              "        for (const element of document.querySelectorAll('.filepath')) {\n",
              "          element.style.display = 'block'\n",
              "          element.onclick = (event) => {\n",
              "            event.preventDefault();\n",
              "            event.stopPropagation();\n",
              "            google.colab.files.view(element.textContent, 1);\n",
              "          };\n",
              "        }\n",
              "      }\n",
              "      for (const element of document.querySelectorAll('.function-repr-contents')) {\n",
              "        element.onclick = (event) => {\n",
              "          event.preventDefault();\n",
              "          event.stopPropagation();\n",
              "          element.classList.toggle('function-repr-contents-collapsed');\n",
              "        };\n",
              "      }\n",
              "      </script>\n",
              "      </div>"
            ]
          },
          "metadata": {},
          "execution_count": 34
        }
      ]
    },
    {
      "cell_type": "code",
      "source": [
        "data.keys()"
      ],
      "metadata": {
        "colab": {
          "base_uri": "https://localhost:8080/"
        },
        "id": "8XuUm7Dv5-_Z",
        "outputId": "368cab17-5b47-4cfe-ebbe-ce762ff37fe5"
      },
      "execution_count": 35,
      "outputs": [
        {
          "output_type": "execute_result",
          "data": {
            "text/plain": [
              "dict_keys(['data', 'target', 'frame', 'target_names', 'DESCR', 'feature_names', 'filename', 'data_module'])"
            ]
          },
          "metadata": {},
          "execution_count": 35
        }
      ]
    },
    {
      "cell_type": "code",
      "source": [
        "data.data.shape"
      ],
      "metadata": {
        "colab": {
          "base_uri": "https://localhost:8080/"
        },
        "id": "Itl2IDZv5_Ck",
        "outputId": "2c7b4a24-3023-4cd2-8972-b9a1846d8583"
      },
      "execution_count": 36,
      "outputs": [
        {
          "output_type": "execute_result",
          "data": {
            "text/plain": [
              "(569, 30)"
            ]
          },
          "metadata": {},
          "execution_count": 36
        }
      ]
    },
    {
      "cell_type": "code",
      "source": [
        "data.target"
      ],
      "metadata": {
        "colab": {
          "base_uri": "https://localhost:8080/"
        },
        "id": "PeP4-lVI5_Fc",
        "outputId": "ef0ec0e4-d242-4abc-e58c-1bf47b6acdcc"
      },
      "execution_count": 37,
      "outputs": [
        {
          "output_type": "execute_result",
          "data": {
            "text/plain": [
              "array([0, 0, 0, 0, 0, 0, 0, 0, 0, 0, 0, 0, 0, 0, 0, 0, 0, 0, 0, 1, 1, 1,\n",
              "       0, 0, 0, 0, 0, 0, 0, 0, 0, 0, 0, 0, 0, 0, 0, 1, 0, 0, 0, 0, 0, 0,\n",
              "       0, 0, 1, 0, 1, 1, 1, 1, 1, 0, 0, 1, 0, 0, 1, 1, 1, 1, 0, 1, 0, 0,\n",
              "       1, 1, 1, 1, 0, 1, 0, 0, 1, 0, 1, 0, 0, 1, 1, 1, 0, 0, 1, 0, 0, 0,\n",
              "       1, 1, 1, 0, 1, 1, 0, 0, 1, 1, 1, 0, 0, 1, 1, 1, 1, 0, 1, 1, 0, 1,\n",
              "       1, 1, 1, 1, 1, 1, 1, 0, 0, 0, 1, 0, 0, 1, 1, 1, 0, 0, 1, 0, 1, 0,\n",
              "       0, 1, 0, 0, 1, 1, 0, 1, 1, 0, 1, 1, 1, 1, 0, 1, 1, 1, 1, 1, 1, 1,\n",
              "       1, 1, 0, 1, 1, 1, 1, 0, 0, 1, 0, 1, 1, 0, 0, 1, 1, 0, 0, 1, 1, 1,\n",
              "       1, 0, 1, 1, 0, 0, 0, 1, 0, 1, 0, 1, 1, 1, 0, 1, 1, 0, 0, 1, 0, 0,\n",
              "       0, 0, 1, 0, 0, 0, 1, 0, 1, 0, 1, 1, 0, 1, 0, 0, 0, 0, 1, 1, 0, 0,\n",
              "       1, 1, 1, 0, 1, 1, 1, 1, 1, 0, 0, 1, 1, 0, 1, 1, 0, 0, 1, 0, 1, 1,\n",
              "       1, 1, 0, 1, 1, 1, 1, 1, 0, 1, 0, 0, 0, 0, 0, 0, 0, 0, 0, 0, 0, 0,\n",
              "       0, 0, 1, 1, 1, 1, 1, 1, 0, 1, 0, 1, 1, 0, 1, 1, 0, 1, 0, 0, 1, 1,\n",
              "       1, 1, 1, 1, 1, 1, 1, 1, 1, 1, 1, 0, 1, 1, 0, 1, 0, 1, 1, 1, 1, 1,\n",
              "       1, 1, 1, 1, 1, 1, 1, 1, 1, 0, 1, 1, 1, 0, 1, 0, 1, 1, 1, 1, 0, 0,\n",
              "       0, 1, 1, 1, 1, 0, 1, 0, 1, 0, 1, 1, 1, 0, 1, 1, 1, 1, 1, 1, 1, 0,\n",
              "       0, 0, 1, 1, 1, 1, 1, 1, 1, 1, 1, 1, 1, 0, 0, 1, 0, 0, 0, 1, 0, 0,\n",
              "       1, 1, 1, 1, 1, 0, 1, 1, 1, 1, 1, 0, 1, 1, 1, 0, 1, 1, 0, 0, 1, 1,\n",
              "       1, 1, 1, 1, 0, 1, 1, 1, 1, 1, 1, 1, 0, 1, 1, 1, 1, 1, 0, 1, 1, 0,\n",
              "       1, 1, 1, 1, 1, 1, 1, 1, 1, 1, 1, 1, 0, 1, 0, 0, 1, 0, 1, 1, 1, 1,\n",
              "       1, 0, 1, 1, 0, 1, 0, 1, 1, 0, 1, 0, 1, 1, 1, 1, 1, 1, 1, 1, 0, 0,\n",
              "       1, 1, 1, 1, 1, 1, 0, 1, 1, 1, 1, 1, 1, 1, 1, 1, 1, 0, 1, 1, 1, 1,\n",
              "       1, 1, 1, 0, 1, 0, 1, 1, 0, 1, 1, 1, 1, 1, 0, 0, 1, 0, 1, 0, 1, 1,\n",
              "       1, 1, 1, 0, 1, 1, 0, 1, 0, 1, 0, 0, 1, 1, 1, 0, 1, 1, 1, 1, 1, 1,\n",
              "       1, 1, 1, 1, 1, 0, 1, 0, 0, 1, 1, 1, 1, 1, 1, 1, 1, 1, 1, 1, 1, 1,\n",
              "       1, 1, 1, 1, 1, 1, 1, 1, 1, 1, 1, 1, 0, 0, 0, 0, 0, 0, 1])"
            ]
          },
          "metadata": {},
          "execution_count": 37
        }
      ]
    },
    {
      "cell_type": "code",
      "source": [
        "data.target_names"
      ],
      "metadata": {
        "colab": {
          "base_uri": "https://localhost:8080/"
        },
        "id": "7o6DDJnr7Feo",
        "outputId": "24b647a9-4664-43a3-ba60-bf9cc6988e18"
      },
      "execution_count": 38,
      "outputs": [
        {
          "output_type": "execute_result",
          "data": {
            "text/plain": [
              "array(['malignant', 'benign'], dtype='<U9')"
            ]
          },
          "metadata": {},
          "execution_count": 38
        }
      ]
    },
    {
      "cell_type": "code",
      "source": [
        "data.target.shape"
      ],
      "metadata": {
        "colab": {
          "base_uri": "https://localhost:8080/"
        },
        "id": "h7w-rUil7Fhx",
        "outputId": "1b2fb092-e3d9-404b-e079-edffa1f08f84"
      },
      "execution_count": 39,
      "outputs": [
        {
          "output_type": "execute_result",
          "data": {
            "text/plain": [
              "(569,)"
            ]
          },
          "metadata": {},
          "execution_count": 39
        }
      ]
    },
    {
      "cell_type": "code",
      "source": [
        "data.data"
      ],
      "metadata": {
        "colab": {
          "base_uri": "https://localhost:8080/"
        },
        "id": "x-UOOuPo7FkV",
        "outputId": "79e1c9fd-5ef2-42ce-f37e-1816c4531517"
      },
      "execution_count": 40,
      "outputs": [
        {
          "output_type": "execute_result",
          "data": {
            "text/plain": [
              "array([[1.799e+01, 1.038e+01, 1.228e+02, ..., 2.654e-01, 4.601e-01,\n",
              "        1.189e-01],\n",
              "       [2.057e+01, 1.777e+01, 1.329e+02, ..., 1.860e-01, 2.750e-01,\n",
              "        8.902e-02],\n",
              "       [1.969e+01, 2.125e+01, 1.300e+02, ..., 2.430e-01, 3.613e-01,\n",
              "        8.758e-02],\n",
              "       ...,\n",
              "       [1.660e+01, 2.808e+01, 1.083e+02, ..., 1.418e-01, 2.218e-01,\n",
              "        7.820e-02],\n",
              "       [2.060e+01, 2.933e+01, 1.401e+02, ..., 2.650e-01, 4.087e-01,\n",
              "        1.240e-01],\n",
              "       [7.760e+00, 2.454e+01, 4.792e+01, ..., 0.000e+00, 2.871e-01,\n",
              "        7.039e-02]])"
            ]
          },
          "metadata": {},
          "execution_count": 40
        }
      ]
    },
    {
      "cell_type": "code",
      "source": [
        "data.feature_names"
      ],
      "metadata": {
        "colab": {
          "base_uri": "https://localhost:8080/"
        },
        "id": "cHkRA2OT7Fm3",
        "outputId": "407bc066-9658-4ab9-a7df-1f75a0179e41"
      },
      "execution_count": 41,
      "outputs": [
        {
          "output_type": "execute_result",
          "data": {
            "text/plain": [
              "array(['mean radius', 'mean texture', 'mean perimeter', 'mean area',\n",
              "       'mean smoothness', 'mean compactness', 'mean concavity',\n",
              "       'mean concave points', 'mean symmetry', 'mean fractal dimension',\n",
              "       'radius error', 'texture error', 'perimeter error', 'area error',\n",
              "       'smoothness error', 'compactness error', 'concavity error',\n",
              "       'concave points error', 'symmetry error',\n",
              "       'fractal dimension error', 'worst radius', 'worst texture',\n",
              "       'worst perimeter', 'worst area', 'worst smoothness',\n",
              "       'worst compactness', 'worst concavity', 'worst concave points',\n",
              "       'worst symmetry', 'worst fractal dimension'], dtype='<U23')"
            ]
          },
          "metadata": {},
          "execution_count": 41
        }
      ]
    },
    {
      "cell_type": "code",
      "source": [
        "from sklearn.model_selection import train_test_split"
      ],
      "metadata": {
        "id": "KJB1OhcY75Xd"
      },
      "execution_count": 42,
      "outputs": []
    },
    {
      "cell_type": "code",
      "source": [
        "X_train, X_test, y_train, y_test = train_test_split(data.data, data.target, test_size=0.33)"
      ],
      "metadata": {
        "id": "6pcIK9a775a7"
      },
      "execution_count": 43,
      "outputs": []
    },
    {
      "cell_type": "code",
      "source": [
        "N, D= X_train.shape"
      ],
      "metadata": {
        "id": "JTXypY7S75eD"
      },
      "execution_count": 44,
      "outputs": []
    },
    {
      "cell_type": "code",
      "source": [
        "N, D"
      ],
      "metadata": {
        "colab": {
          "base_uri": "https://localhost:8080/"
        },
        "id": "nOhB3sLR75hP",
        "outputId": "37da203d-58ac-45ea-88c7-aedf35d60a77"
      },
      "execution_count": 45,
      "outputs": [
        {
          "output_type": "execute_result",
          "data": {
            "text/plain": [
              "(381, 30)"
            ]
          },
          "metadata": {},
          "execution_count": 45
        }
      ]
    },
    {
      "cell_type": "code",
      "source": [
        "from sklearn.preprocessing import StandardScaler"
      ],
      "metadata": {
        "id": "ceiQF6yj75ke"
      },
      "execution_count": 46,
      "outputs": []
    },
    {
      "cell_type": "code",
      "source": [
        "scaler= StandardScaler()\n",
        "X_train=scaler.fit_transform(X_train)\n",
        "X_test=scaler.transform(X_test)\n"
      ],
      "metadata": {
        "id": "M3yioRWG75pv"
      },
      "execution_count": 47,
      "outputs": []
    },
    {
      "cell_type": "code",
      "source": [
        "model=tf.keras.models.Sequential([\n",
        "    tf.keras.layers.Input(shape=(D,)),\n",
        "    tf.keras.layers.Dense(1, activation='sigmoid')\n",
        "])"
      ],
      "metadata": {
        "id": "C9p-gbxa7FpD"
      },
      "execution_count": 48,
      "outputs": []
    },
    {
      "cell_type": "code",
      "source": [
        "model = tf.keras.models.Sequential()\n",
        "model.add(tf.keras.layers.Dense(1, input_shape=(D,),activation='sigmoid'))"
      ],
      "metadata": {
        "id": "ixxHFNL_7FrM"
      },
      "execution_count": 49,
      "outputs": []
    },
    {
      "cell_type": "code",
      "source": [
        "model.compile(optimizer='adam',\n",
        "              loss='binary_crossentropy',\n",
        "              metrics=['accuracy']\n",
        "              )"
      ],
      "metadata": {
        "id": "m4uJtY1G_ooA"
      },
      "execution_count": 50,
      "outputs": []
    },
    {
      "cell_type": "code",
      "source": [
        "r = model.fit(X_train, y_train, validation_data=(X_test, y_test), epochs=100)"
      ],
      "metadata": {
        "colab": {
          "base_uri": "https://localhost:8080/"
        },
        "id": "v8bElI5rAiJR",
        "outputId": "3f9a1d8a-81f9-4d2e-ff79-050c9b8b47a9"
      },
      "execution_count": 51,
      "outputs": [
        {
          "output_type": "stream",
          "name": "stdout",
          "text": [
            "Epoch 1/100\n",
            "12/12 [==============================] - 1s 26ms/step - loss: 0.7206 - accuracy: 0.5433 - val_loss: 0.6470 - val_accuracy: 0.6064\n",
            "Epoch 2/100\n",
            "12/12 [==============================] - 0s 8ms/step - loss: 0.6404 - accuracy: 0.6667 - val_loss: 0.5759 - val_accuracy: 0.6968\n",
            "Epoch 3/100\n",
            "12/12 [==============================] - 0s 9ms/step - loss: 0.5731 - accuracy: 0.7428 - val_loss: 0.5159 - val_accuracy: 0.7872\n",
            "Epoch 4/100\n",
            "12/12 [==============================] - 0s 8ms/step - loss: 0.5160 - accuracy: 0.7953 - val_loss: 0.4666 - val_accuracy: 0.8564\n",
            "Epoch 5/100\n",
            "12/12 [==============================] - 0s 9ms/step - loss: 0.4715 - accuracy: 0.8241 - val_loss: 0.4243 - val_accuracy: 0.8936\n",
            "Epoch 6/100\n",
            "12/12 [==============================] - 0s 8ms/step - loss: 0.4331 - accuracy: 0.8688 - val_loss: 0.3894 - val_accuracy: 0.9202\n",
            "Epoch 7/100\n",
            "12/12 [==============================] - 0s 8ms/step - loss: 0.4008 - accuracy: 0.8924 - val_loss: 0.3608 - val_accuracy: 0.9415\n",
            "Epoch 8/100\n",
            "12/12 [==============================] - 0s 7ms/step - loss: 0.3748 - accuracy: 0.9186 - val_loss: 0.3356 - val_accuracy: 0.9521\n",
            "Epoch 9/100\n",
            "12/12 [==============================] - 0s 7ms/step - loss: 0.3519 - accuracy: 0.9213 - val_loss: 0.3142 - val_accuracy: 0.9521\n",
            "Epoch 10/100\n",
            "12/12 [==============================] - 0s 6ms/step - loss: 0.3323 - accuracy: 0.9318 - val_loss: 0.2958 - val_accuracy: 0.9628\n",
            "Epoch 11/100\n",
            "12/12 [==============================] - 0s 6ms/step - loss: 0.3156 - accuracy: 0.9370 - val_loss: 0.2792 - val_accuracy: 0.9681\n",
            "Epoch 12/100\n",
            "12/12 [==============================] - 0s 6ms/step - loss: 0.3006 - accuracy: 0.9344 - val_loss: 0.2647 - val_accuracy: 0.9734\n",
            "Epoch 13/100\n",
            "12/12 [==============================] - 0s 7ms/step - loss: 0.2871 - accuracy: 0.9370 - val_loss: 0.2522 - val_accuracy: 0.9734\n",
            "Epoch 14/100\n",
            "12/12 [==============================] - 0s 8ms/step - loss: 0.2753 - accuracy: 0.9396 - val_loss: 0.2407 - val_accuracy: 0.9734\n",
            "Epoch 15/100\n",
            "12/12 [==============================] - 0s 8ms/step - loss: 0.2647 - accuracy: 0.9423 - val_loss: 0.2303 - val_accuracy: 0.9734\n",
            "Epoch 16/100\n",
            "12/12 [==============================] - 0s 8ms/step - loss: 0.2553 - accuracy: 0.9475 - val_loss: 0.2205 - val_accuracy: 0.9734\n",
            "Epoch 17/100\n",
            "12/12 [==============================] - 0s 7ms/step - loss: 0.2462 - accuracy: 0.9475 - val_loss: 0.2121 - val_accuracy: 0.9787\n",
            "Epoch 18/100\n",
            "12/12 [==============================] - 0s 8ms/step - loss: 0.2382 - accuracy: 0.9475 - val_loss: 0.2043 - val_accuracy: 0.9787\n",
            "Epoch 19/100\n",
            "12/12 [==============================] - 0s 8ms/step - loss: 0.2310 - accuracy: 0.9528 - val_loss: 0.1971 - val_accuracy: 0.9840\n",
            "Epoch 20/100\n",
            "12/12 [==============================] - 0s 8ms/step - loss: 0.2242 - accuracy: 0.9554 - val_loss: 0.1904 - val_accuracy: 0.9840\n",
            "Epoch 21/100\n",
            "12/12 [==============================] - 0s 8ms/step - loss: 0.2178 - accuracy: 0.9554 - val_loss: 0.1845 - val_accuracy: 0.9840\n",
            "Epoch 22/100\n",
            "12/12 [==============================] - 0s 6ms/step - loss: 0.2120 - accuracy: 0.9554 - val_loss: 0.1790 - val_accuracy: 0.9840\n",
            "Epoch 23/100\n",
            "12/12 [==============================] - 0s 7ms/step - loss: 0.2067 - accuracy: 0.9554 - val_loss: 0.1739 - val_accuracy: 0.9840\n",
            "Epoch 24/100\n",
            "12/12 [==============================] - 0s 6ms/step - loss: 0.2016 - accuracy: 0.9554 - val_loss: 0.1689 - val_accuracy: 0.9840\n",
            "Epoch 25/100\n",
            "12/12 [==============================] - 0s 7ms/step - loss: 0.1969 - accuracy: 0.9554 - val_loss: 0.1642 - val_accuracy: 0.9840\n",
            "Epoch 26/100\n",
            "12/12 [==============================] - 0s 9ms/step - loss: 0.1923 - accuracy: 0.9554 - val_loss: 0.1602 - val_accuracy: 0.9840\n",
            "Epoch 27/100\n",
            "12/12 [==============================] - 0s 7ms/step - loss: 0.1883 - accuracy: 0.9554 - val_loss: 0.1561 - val_accuracy: 0.9840\n",
            "Epoch 28/100\n",
            "12/12 [==============================] - 0s 8ms/step - loss: 0.1843 - accuracy: 0.9580 - val_loss: 0.1525 - val_accuracy: 0.9840\n",
            "Epoch 29/100\n",
            "12/12 [==============================] - 0s 8ms/step - loss: 0.1805 - accuracy: 0.9633 - val_loss: 0.1490 - val_accuracy: 0.9840\n",
            "Epoch 30/100\n",
            "12/12 [==============================] - 0s 8ms/step - loss: 0.1770 - accuracy: 0.9633 - val_loss: 0.1458 - val_accuracy: 0.9894\n",
            "Epoch 31/100\n",
            "12/12 [==============================] - 0s 6ms/step - loss: 0.1737 - accuracy: 0.9633 - val_loss: 0.1427 - val_accuracy: 0.9894\n",
            "Epoch 32/100\n",
            "12/12 [==============================] - 0s 6ms/step - loss: 0.1706 - accuracy: 0.9633 - val_loss: 0.1398 - val_accuracy: 0.9894\n",
            "Epoch 33/100\n",
            "12/12 [==============================] - 0s 5ms/step - loss: 0.1676 - accuracy: 0.9659 - val_loss: 0.1371 - val_accuracy: 0.9894\n",
            "Epoch 34/100\n",
            "12/12 [==============================] - 0s 6ms/step - loss: 0.1648 - accuracy: 0.9659 - val_loss: 0.1346 - val_accuracy: 0.9894\n",
            "Epoch 35/100\n",
            "12/12 [==============================] - 0s 6ms/step - loss: 0.1621 - accuracy: 0.9659 - val_loss: 0.1320 - val_accuracy: 0.9894\n",
            "Epoch 36/100\n",
            "12/12 [==============================] - 0s 5ms/step - loss: 0.1594 - accuracy: 0.9685 - val_loss: 0.1297 - val_accuracy: 0.9894\n",
            "Epoch 37/100\n",
            "12/12 [==============================] - 0s 5ms/step - loss: 0.1570 - accuracy: 0.9685 - val_loss: 0.1274 - val_accuracy: 0.9894\n",
            "Epoch 38/100\n",
            "12/12 [==============================] - 0s 5ms/step - loss: 0.1547 - accuracy: 0.9685 - val_loss: 0.1253 - val_accuracy: 0.9894\n",
            "Epoch 39/100\n",
            "12/12 [==============================] - 0s 4ms/step - loss: 0.1524 - accuracy: 0.9685 - val_loss: 0.1233 - val_accuracy: 0.9894\n",
            "Epoch 40/100\n",
            "12/12 [==============================] - 0s 5ms/step - loss: 0.1503 - accuracy: 0.9685 - val_loss: 0.1215 - val_accuracy: 0.9894\n",
            "Epoch 41/100\n",
            "12/12 [==============================] - 0s 5ms/step - loss: 0.1481 - accuracy: 0.9685 - val_loss: 0.1196 - val_accuracy: 0.9894\n",
            "Epoch 42/100\n",
            "12/12 [==============================] - 0s 6ms/step - loss: 0.1462 - accuracy: 0.9685 - val_loss: 0.1179 - val_accuracy: 0.9894\n",
            "Epoch 43/100\n",
            "12/12 [==============================] - 0s 4ms/step - loss: 0.1443 - accuracy: 0.9685 - val_loss: 0.1162 - val_accuracy: 0.9894\n",
            "Epoch 44/100\n",
            "12/12 [==============================] - 0s 6ms/step - loss: 0.1425 - accuracy: 0.9685 - val_loss: 0.1145 - val_accuracy: 0.9894\n",
            "Epoch 45/100\n",
            "12/12 [==============================] - 0s 5ms/step - loss: 0.1407 - accuracy: 0.9685 - val_loss: 0.1130 - val_accuracy: 0.9894\n",
            "Epoch 46/100\n",
            "12/12 [==============================] - 0s 6ms/step - loss: 0.1390 - accuracy: 0.9685 - val_loss: 0.1116 - val_accuracy: 0.9894\n",
            "Epoch 47/100\n",
            "12/12 [==============================] - 0s 6ms/step - loss: 0.1374 - accuracy: 0.9685 - val_loss: 0.1103 - val_accuracy: 0.9894\n",
            "Epoch 48/100\n",
            "12/12 [==============================] - 0s 6ms/step - loss: 0.1358 - accuracy: 0.9685 - val_loss: 0.1090 - val_accuracy: 0.9894\n",
            "Epoch 49/100\n",
            "12/12 [==============================] - 0s 6ms/step - loss: 0.1343 - accuracy: 0.9685 - val_loss: 0.1076 - val_accuracy: 0.9894\n",
            "Epoch 50/100\n",
            "12/12 [==============================] - 0s 5ms/step - loss: 0.1329 - accuracy: 0.9685 - val_loss: 0.1063 - val_accuracy: 0.9894\n",
            "Epoch 51/100\n",
            "12/12 [==============================] - 0s 4ms/step - loss: 0.1315 - accuracy: 0.9711 - val_loss: 0.1052 - val_accuracy: 0.9894\n",
            "Epoch 52/100\n",
            "12/12 [==============================] - 0s 6ms/step - loss: 0.1301 - accuracy: 0.9711 - val_loss: 0.1039 - val_accuracy: 0.9894\n",
            "Epoch 53/100\n",
            "12/12 [==============================] - 0s 5ms/step - loss: 0.1288 - accuracy: 0.9711 - val_loss: 0.1028 - val_accuracy: 0.9894\n",
            "Epoch 54/100\n",
            "12/12 [==============================] - 0s 6ms/step - loss: 0.1275 - accuracy: 0.9711 - val_loss: 0.1018 - val_accuracy: 0.9894\n",
            "Epoch 55/100\n",
            "12/12 [==============================] - 0s 5ms/step - loss: 0.1263 - accuracy: 0.9711 - val_loss: 0.1007 - val_accuracy: 0.9894\n",
            "Epoch 56/100\n",
            "12/12 [==============================] - 0s 6ms/step - loss: 0.1251 - accuracy: 0.9711 - val_loss: 0.0998 - val_accuracy: 0.9894\n",
            "Epoch 57/100\n",
            "12/12 [==============================] - 0s 6ms/step - loss: 0.1240 - accuracy: 0.9711 - val_loss: 0.0988 - val_accuracy: 0.9894\n",
            "Epoch 58/100\n",
            "12/12 [==============================] - 0s 4ms/step - loss: 0.1229 - accuracy: 0.9711 - val_loss: 0.0978 - val_accuracy: 0.9894\n",
            "Epoch 59/100\n",
            "12/12 [==============================] - 0s 6ms/step - loss: 0.1218 - accuracy: 0.9738 - val_loss: 0.0969 - val_accuracy: 0.9894\n",
            "Epoch 60/100\n",
            "12/12 [==============================] - 0s 4ms/step - loss: 0.1207 - accuracy: 0.9738 - val_loss: 0.0961 - val_accuracy: 0.9894\n",
            "Epoch 61/100\n",
            "12/12 [==============================] - 0s 5ms/step - loss: 0.1197 - accuracy: 0.9764 - val_loss: 0.0952 - val_accuracy: 0.9894\n",
            "Epoch 62/100\n",
            "12/12 [==============================] - 0s 5ms/step - loss: 0.1187 - accuracy: 0.9764 - val_loss: 0.0946 - val_accuracy: 0.9894\n",
            "Epoch 63/100\n",
            "12/12 [==============================] - 0s 5ms/step - loss: 0.1177 - accuracy: 0.9764 - val_loss: 0.0938 - val_accuracy: 0.9894\n",
            "Epoch 64/100\n",
            "12/12 [==============================] - 0s 6ms/step - loss: 0.1168 - accuracy: 0.9764 - val_loss: 0.0930 - val_accuracy: 0.9894\n",
            "Epoch 65/100\n",
            "12/12 [==============================] - 0s 5ms/step - loss: 0.1159 - accuracy: 0.9764 - val_loss: 0.0921 - val_accuracy: 0.9894\n",
            "Epoch 66/100\n",
            "12/12 [==============================] - 0s 5ms/step - loss: 0.1150 - accuracy: 0.9764 - val_loss: 0.0915 - val_accuracy: 0.9894\n",
            "Epoch 67/100\n",
            "12/12 [==============================] - 0s 5ms/step - loss: 0.1141 - accuracy: 0.9790 - val_loss: 0.0909 - val_accuracy: 0.9894\n",
            "Epoch 68/100\n",
            "12/12 [==============================] - 0s 5ms/step - loss: 0.1133 - accuracy: 0.9790 - val_loss: 0.0902 - val_accuracy: 0.9894\n",
            "Epoch 69/100\n",
            "12/12 [==============================] - 0s 5ms/step - loss: 0.1125 - accuracy: 0.9790 - val_loss: 0.0896 - val_accuracy: 0.9894\n",
            "Epoch 70/100\n",
            "12/12 [==============================] - 0s 5ms/step - loss: 0.1117 - accuracy: 0.9790 - val_loss: 0.0889 - val_accuracy: 0.9894\n",
            "Epoch 71/100\n",
            "12/12 [==============================] - 0s 6ms/step - loss: 0.1109 - accuracy: 0.9790 - val_loss: 0.0883 - val_accuracy: 0.9894\n",
            "Epoch 72/100\n",
            "12/12 [==============================] - 0s 5ms/step - loss: 0.1102 - accuracy: 0.9790 - val_loss: 0.0877 - val_accuracy: 0.9894\n",
            "Epoch 73/100\n",
            "12/12 [==============================] - 0s 5ms/step - loss: 0.1094 - accuracy: 0.9790 - val_loss: 0.0872 - val_accuracy: 0.9894\n",
            "Epoch 74/100\n",
            "12/12 [==============================] - 0s 6ms/step - loss: 0.1087 - accuracy: 0.9790 - val_loss: 0.0865 - val_accuracy: 0.9894\n",
            "Epoch 75/100\n",
            "12/12 [==============================] - 0s 7ms/step - loss: 0.1081 - accuracy: 0.9790 - val_loss: 0.0860 - val_accuracy: 0.9894\n",
            "Epoch 76/100\n",
            "12/12 [==============================] - 0s 6ms/step - loss: 0.1073 - accuracy: 0.9790 - val_loss: 0.0855 - val_accuracy: 0.9894\n",
            "Epoch 77/100\n",
            "12/12 [==============================] - 0s 6ms/step - loss: 0.1067 - accuracy: 0.9790 - val_loss: 0.0850 - val_accuracy: 0.9894\n",
            "Epoch 78/100\n",
            "12/12 [==============================] - 0s 6ms/step - loss: 0.1061 - accuracy: 0.9790 - val_loss: 0.0846 - val_accuracy: 0.9894\n",
            "Epoch 79/100\n",
            "12/12 [==============================] - 0s 4ms/step - loss: 0.1054 - accuracy: 0.9790 - val_loss: 0.0840 - val_accuracy: 0.9894\n",
            "Epoch 80/100\n",
            "12/12 [==============================] - 0s 5ms/step - loss: 0.1048 - accuracy: 0.9790 - val_loss: 0.0834 - val_accuracy: 0.9894\n",
            "Epoch 81/100\n",
            "12/12 [==============================] - 0s 5ms/step - loss: 0.1042 - accuracy: 0.9790 - val_loss: 0.0830 - val_accuracy: 0.9894\n",
            "Epoch 82/100\n",
            "12/12 [==============================] - 0s 6ms/step - loss: 0.1036 - accuracy: 0.9790 - val_loss: 0.0826 - val_accuracy: 0.9894\n",
            "Epoch 83/100\n",
            "12/12 [==============================] - 0s 6ms/step - loss: 0.1030 - accuracy: 0.9790 - val_loss: 0.0822 - val_accuracy: 0.9894\n",
            "Epoch 84/100\n",
            "12/12 [==============================] - 0s 6ms/step - loss: 0.1025 - accuracy: 0.9790 - val_loss: 0.0818 - val_accuracy: 0.9894\n",
            "Epoch 85/100\n",
            "12/12 [==============================] - 0s 5ms/step - loss: 0.1019 - accuracy: 0.9790 - val_loss: 0.0813 - val_accuracy: 0.9894\n",
            "Epoch 86/100\n",
            "12/12 [==============================] - 0s 5ms/step - loss: 0.1014 - accuracy: 0.9790 - val_loss: 0.0809 - val_accuracy: 0.9894\n",
            "Epoch 87/100\n",
            "12/12 [==============================] - 0s 6ms/step - loss: 0.1008 - accuracy: 0.9790 - val_loss: 0.0804 - val_accuracy: 0.9894\n",
            "Epoch 88/100\n",
            "12/12 [==============================] - 0s 4ms/step - loss: 0.1003 - accuracy: 0.9790 - val_loss: 0.0800 - val_accuracy: 0.9894\n",
            "Epoch 89/100\n",
            "12/12 [==============================] - 0s 5ms/step - loss: 0.0998 - accuracy: 0.9790 - val_loss: 0.0798 - val_accuracy: 0.9894\n",
            "Epoch 90/100\n",
            "12/12 [==============================] - 0s 6ms/step - loss: 0.0993 - accuracy: 0.9790 - val_loss: 0.0793 - val_accuracy: 0.9894\n",
            "Epoch 91/100\n",
            "12/12 [==============================] - 0s 6ms/step - loss: 0.0988 - accuracy: 0.9790 - val_loss: 0.0789 - val_accuracy: 0.9894\n",
            "Epoch 92/100\n",
            "12/12 [==============================] - 0s 6ms/step - loss: 0.0984 - accuracy: 0.9790 - val_loss: 0.0787 - val_accuracy: 0.9894\n",
            "Epoch 93/100\n",
            "12/12 [==============================] - 0s 5ms/step - loss: 0.0979 - accuracy: 0.9790 - val_loss: 0.0782 - val_accuracy: 0.9894\n",
            "Epoch 94/100\n",
            "12/12 [==============================] - 0s 5ms/step - loss: 0.0975 - accuracy: 0.9790 - val_loss: 0.0780 - val_accuracy: 0.9894\n",
            "Epoch 95/100\n",
            "12/12 [==============================] - 0s 5ms/step - loss: 0.0970 - accuracy: 0.9790 - val_loss: 0.0776 - val_accuracy: 0.9894\n",
            "Epoch 96/100\n",
            "12/12 [==============================] - 0s 5ms/step - loss: 0.0966 - accuracy: 0.9790 - val_loss: 0.0774 - val_accuracy: 0.9894\n",
            "Epoch 97/100\n",
            "12/12 [==============================] - 0s 4ms/step - loss: 0.0961 - accuracy: 0.9790 - val_loss: 0.0770 - val_accuracy: 0.9894\n",
            "Epoch 98/100\n",
            "12/12 [==============================] - 0s 4ms/step - loss: 0.0957 - accuracy: 0.9790 - val_loss: 0.0768 - val_accuracy: 0.9894\n",
            "Epoch 99/100\n",
            "12/12 [==============================] - 0s 5ms/step - loss: 0.0953 - accuracy: 0.9790 - val_loss: 0.0764 - val_accuracy: 0.9894\n",
            "Epoch 100/100\n",
            "12/12 [==============================] - 0s 5ms/step - loss: 0.0949 - accuracy: 0.9790 - val_loss: 0.0761 - val_accuracy: 0.9894\n"
          ]
        }
      ]
    },
    {
      "cell_type": "code",
      "source": [
        "print(\"Training score:\", model.evaluate(X_train, y_train))\n",
        "print(\"Test score:\", model.evaluate(X_test, y_test))"
      ],
      "metadata": {
        "colab": {
          "base_uri": "https://localhost:8080/"
        },
        "id": "O9ocUAxFAiVX",
        "outputId": "0f3beb3e-3ca4-4c14-d38d-342837c2086e"
      },
      "execution_count": 52,
      "outputs": [
        {
          "output_type": "stream",
          "name": "stdout",
          "text": [
            "12/12 [==============================] - 0s 2ms/step - loss: 0.0946 - accuracy: 0.9790\n",
            "Training score: [0.09461694955825806, 0.9790025949478149]\n",
            "6/6 [==============================] - 0s 2ms/step - loss: 0.0761 - accuracy: 0.9894\n",
            "Test score: [0.07607444375753403, 0.9893617033958435]\n"
          ]
        }
      ]
    },
    {
      "cell_type": "code",
      "source": [
        "import matplotlib.pyplot as plt\n",
        "plt.plot(r.history['loss'], label='loss')\n",
        "plt.plot(r.history['val_loss'], label='loss_loss')\n",
        "plt.legend()"
      ],
      "metadata": {
        "colab": {
          "base_uri": "https://localhost:8080/",
          "height": 467
        },
        "id": "pUW6_mKXAiY2",
        "outputId": "c50a3e59-2338-49bd-e6c1-cb12eddd5133"
      },
      "execution_count": 53,
      "outputs": [
        {
          "output_type": "execute_result",
          "data": {
            "text/plain": [
              "<matplotlib.legend.Legend at 0x79db4260dea0>"
            ]
          },
          "metadata": {},
          "execution_count": 53
        },
        {
          "output_type": "display_data",
          "data": {
            "text/plain": [
              "<Figure size 640x480 with 1 Axes>"
            ],
            "image/png": "[encoded data removed]"
          },
          "metadata": {}
        }
      ]
    },
    {
      "cell_type": "code",
      "source": [
        "plt.plot(r.history['accuracy'], label='acc')\n",
        "plt.plot(r.history['val_accuracy'], label='val_acc')\n",
        "plt.legend();"
      ],
      "metadata": {
        "colab": {
          "base_uri": "https://localhost:8080/",
          "height": 450
        },
        "id": "2R8_NhdkAicU",
        "outputId": "dda2f3a3-b353-4900-a0ad-c2b15651cf18"
      },
      "execution_count": 54,
      "outputs": [
        {
          "output_type": "display_data",
          "data": {
            "text/plain": [
              "<Figure size 640x480 with 1 Axes>"
            ],
            "image/png": "[encoded data removed]"
          },
          "metadata": {}
        }
      ]
    },
    {
      "cell_type": "code",
      "source": [],
      "metadata": {
        "id": "2t9U6WnM_oql"
      },
      "execution_count": 54,
      "outputs": []
    },
    {
      "cell_type": "markdown",
      "source": [
        "#Making Prediction"
      ],
      "metadata": {
        "id": "Y8Q7p1MOhIkh"
      }
    },
    {
      "cell_type": "code",
      "source": [
        "\n",
        "\n",
        "# Make predictions\n",
        "P = model.predict(X_test)\n",
        "print(P) # they are outputs of the sigmoid, interpreted as probabilities p(y = 1 | x)\n",
        "\n"
      ],
      "metadata": {
        "id": "xIfxeQHDReSE",
        "colab": {
          "base_uri": "https://localhost:8080/"
        },
        "outputId": "13538b84-d4fb-46ef-8110-b706f0f27b4f"
      },
      "execution_count": 55,
      "outputs": [
        {
          "output_type": "stream",
          "name": "stdout",
          "text": [
            "6/6 [==============================] - 0s 2ms/step\n",
            "[[1.3632444e-03]\n",
            " [9.9507046e-01]\n",
            " [9.7944140e-01]\n",
            " [1.3894465e-06]\n",
            " [9.9378234e-01]\n",
            " [9.6523589e-01]\n",
            " [9.8365963e-01]\n",
            " [9.5755434e-01]\n",
            " [8.0986601e-01]\n",
            " [8.7984610e-01]\n",
            " [5.0223347e-02]\n",
            " [9.2749864e-01]\n",
            " [1.1747353e-04]\n",
            " [9.3626112e-01]\n",
            " [2.2017413e-04]\n",
            " [9.9041581e-01]\n",
            " [1.4723913e-03]\n",
            " [9.8844934e-01]\n",
            " [9.6939445e-01]\n",
            " [7.3012078e-01]\n",
            " [9.9641734e-01]\n",
            " [9.9918187e-01]\n",
            " [9.8259884e-01]\n",
            " [2.8074570e-07]\n",
            " [1.0931209e-05]\n",
            " [9.9805504e-01]\n",
            " [9.7808886e-01]\n",
            " [9.9394530e-01]\n",
            " [9.7326148e-01]\n",
            " [9.6610266e-01]\n",
            " [9.9140304e-01]\n",
            " [8.4273899e-01]\n",
            " [9.9743879e-01]\n",
            " [9.8256999e-01]\n",
            " [9.6577287e-01]\n",
            " [9.9755645e-01]\n",
            " [8.6083817e-01]\n",
            " [5.0198641e-03]\n",
            " [9.9977827e-01]\n",
            " [9.6152300e-01]\n",
            " [4.9638893e-06]\n",
            " [9.7665989e-01]\n",
            " [2.2541045e-03]\n",
            " [9.7589451e-01]\n",
            " [9.8848182e-01]\n",
            " [9.9461311e-01]\n",
            " [9.9975097e-01]\n",
            " [9.8319244e-01]\n",
            " [9.4989842e-01]\n",
            " [3.1051801e-05]\n",
            " [5.5035673e-02]\n",
            " [9.8811316e-01]\n",
            " [6.2477547e-03]\n",
            " [9.7537386e-01]\n",
            " [9.9919182e-01]\n",
            " [5.2028114e-04]\n",
            " [4.4018131e-01]\n",
            " [9.9640393e-01]\n",
            " [9.9615985e-01]\n",
            " [2.2357577e-01]\n",
            " [5.1310042e-07]\n",
            " [2.8270157e-03]\n",
            " [1.0420094e-02]\n",
            " [2.9634975e-08]\n",
            " [6.4787023e-02]\n",
            " [9.9113882e-01]\n",
            " [1.1507888e-02]\n",
            " [9.7979695e-01]\n",
            " [1.3559375e-05]\n",
            " [8.3853471e-01]\n",
            " [6.5638884e-03]\n",
            " [8.5674495e-01]\n",
            " [9.9106824e-01]\n",
            " [6.1163014e-01]\n",
            " [9.9855661e-01]\n",
            " [9.4517088e-01]\n",
            " [6.1082728e-03]\n",
            " [9.4830668e-01]\n",
            " [9.9938655e-01]\n",
            " [1.7865750e-01]\n",
            " [6.5592460e-02]\n",
            " [9.9413407e-01]\n",
            " [1.7059025e-05]\n",
            " [9.5288175e-01]\n",
            " [7.9761881e-01]\n",
            " [9.8565322e-01]\n",
            " [3.4828660e-01]\n",
            " [8.2016718e-01]\n",
            " [9.9568099e-01]\n",
            " [9.9462557e-01]\n",
            " [9.9748033e-01]\n",
            " [9.9423093e-01]\n",
            " [9.2908192e-01]\n",
            " [9.8720497e-01]\n",
            " [6.2838250e-01]\n",
            " [8.0132931e-01]\n",
            " [9.2561102e-01]\n",
            " [8.2598817e-01]\n",
            " [9.2574072e-01]\n",
            " [5.9392232e-01]\n",
            " [7.9437559e-03]\n",
            " [9.8858148e-01]\n",
            " [9.5629275e-01]\n",
            " [9.9948806e-01]\n",
            " [6.7052954e-01]\n",
            " [9.9849594e-01]\n",
            " [9.5134807e-01]\n",
            " [3.2166249e-04]\n",
            " [9.8756021e-01]\n",
            " [8.9531338e-01]\n",
            " [6.2140334e-01]\n",
            " [9.8864377e-01]\n",
            " [9.8988461e-01]\n",
            " [9.9661595e-01]\n",
            " [3.9531246e-02]\n",
            " [8.5716128e-01]\n",
            " [2.0525694e-02]\n",
            " [7.5041249e-02]\n",
            " [3.7293442e-04]\n",
            " [1.1516853e-01]\n",
            " [9.9701440e-01]\n",
            " [9.9452305e-01]\n",
            " [9.8527187e-01]\n",
            " [7.9301232e-01]\n",
            " [8.2912576e-01]\n",
            " [7.6039485e-03]\n",
            " [9.6931022e-01]\n",
            " [9.9419713e-01]\n",
            " [9.2392361e-01]\n",
            " [8.5252494e-01]\n",
            " [1.9569373e-04]\n",
            " [9.6758211e-01]\n",
            " [3.4693925e-04]\n",
            " [7.9937744e-01]\n",
            " [9.1061962e-01]\n",
            " [9.8644263e-01]\n",
            " [5.1915739e-04]\n",
            " [2.3162031e-01]\n",
            " [2.4708326e-04]\n",
            " [3.0114964e-04]\n",
            " [9.9147558e-01]\n",
            " [9.8819625e-01]\n",
            " [6.6090995e-01]\n",
            " [1.0938623e-03]\n",
            " [9.7811949e-01]\n",
            " [4.0279388e-01]\n",
            " [8.0019804e-03]\n",
            " [8.5259056e-01]\n",
            " [9.9886549e-01]\n",
            " [1.3082249e-02]\n",
            " [9.8081952e-01]\n",
            " [9.4589794e-01]\n",
            " [1.3527690e-04]\n",
            " [9.9911094e-01]\n",
            " [8.2977384e-01]\n",
            " [9.6237934e-01]\n",
            " [9.6424425e-01]\n",
            " [9.9347192e-01]\n",
            " [6.0721731e-04]\n",
            " [9.8833752e-01]\n",
            " [7.6251602e-01]\n",
            " [9.9417561e-01]\n",
            " [9.0387225e-01]\n",
            " [9.9135983e-01]\n",
            " [9.7823292e-01]\n",
            " [9.9555278e-01]\n",
            " [9.8468924e-01]\n",
            " [1.3083376e-06]\n",
            " [2.3901127e-01]\n",
            " [9.9499887e-01]\n",
            " [3.1510256e-02]\n",
            " [2.4220167e-04]\n",
            " [1.8207902e-02]\n",
            " [9.9727601e-01]\n",
            " [1.2985972e-01]\n",
            " [3.8960938e-05]\n",
            " [9.8880732e-01]\n",
            " [6.1792853e-06]\n",
            " [7.4033719e-03]\n",
            " [9.9522078e-01]\n",
            " [9.9896055e-01]\n",
            " [9.7971344e-01]\n",
            " [7.4264717e-01]\n",
            " [8.3599591e-01]\n",
            " [6.4951645e-14]\n",
            " [1.0757011e-03]\n",
            " [3.5693742e-02]\n",
            " [9.1891468e-01]]\n"
          ]
        }
      ]
    },
    {
      "cell_type": "code",
      "source": [
        "# Round to get the actual predictions\n",
        "# Note: has to be flattened since the targets are size (N,) while the predictions are size (N,1)\n",
        "import numpy as np\n",
        "P = np.round(P).flatten()\n",
        "print(P)"
      ],
      "metadata": {
        "id": "ZCqrl9B5_os8",
        "colab": {
          "base_uri": "https://localhost:8080/"
        },
        "outputId": "d86483c1-24eb-46ab-f24b-b2ff78600ecf"
      },
      "execution_count": 56,
      "outputs": [
        {
          "output_type": "stream",
          "name": "stdout",
          "text": [
            "[0. 1. 1. 0. 1. 1. 1. 1. 1. 1. 0. 1. 0. 1. 0. 1. 0. 1. 1. 1. 1. 1. 1. 0.\n",
            " 0. 1. 1. 1. 1. 1. 1. 1. 1. 1. 1. 1. 1. 0. 1. 1. 0. 1. 0. 1. 1. 1. 1. 1.\n",
            " 1. 0. 0. 1. 0. 1. 1. 0. 0. 1. 1. 0. 0. 0. 0. 0. 0. 1. 0. 1. 0. 1. 0. 1.\n",
            " 1. 1. 1. 1. 0. 1. 1. 0. 0. 1. 0. 1. 1. 1. 0. 1. 1. 1. 1. 1. 1. 1. 1. 1.\n",
            " 1. 1. 1. 1. 0. 1. 1. 1. 1. 1. 1. 0. 1. 1. 1. 1. 1. 1. 0. 1. 0. 0. 0. 0.\n",
            " 1. 1. 1. 1. 1. 0. 1. 1. 1. 1. 0. 1. 0. 1. 1. 1. 0. 0. 0. 0. 1. 1. 1. 0.\n",
            " 1. 0. 0. 1. 1. 0. 1. 1. 0. 1. 1. 1. 1. 1. 0. 1. 1. 1. 1. 1. 1. 1. 1. 0.\n",
            " 0. 1. 0. 0. 0. 1. 0. 0. 1. 0. 0. 1. 1. 1. 1. 1. 0. 0. 0. 1.]\n"
          ]
        }
      ]
    },
    {
      "cell_type": "code",
      "source": [
        "# Calculate the accuracy, compare it to evaluate() output\n",
        "print(\"Manually calculated accuracy:\", np.mean(P == y_test))\n",
        "print(\"Evaluate output:\", model.evaluate(X_test, y_test))"
      ],
      "metadata": {
        "id": "3swyoil0_ovB",
        "colab": {
          "base_uri": "https://localhost:8080/"
        },
        "outputId": "9ecb21c5-68bc-4bc2-f16b-a9ad0d2eddd1"
      },
      "execution_count": 57,
      "outputs": [
        {
          "output_type": "stream",
          "name": "stdout",
          "text": [
            "Manually calculated accuracy: 0.9893617021276596\n",
            "6/6 [==============================] - 0s 2ms/step - loss: 0.0761 - accuracy: 0.9894\n",
            "Evaluate output: [0.07607444375753403, 0.9893617033958435]\n"
          ]
        }
      ]
    },
    {
      "cell_type": "code",
      "source": [],
      "metadata": {
        "id": "uhiTXQaF_oxM"
      },
      "execution_count": 57,
      "outputs": []
    },
    {
      "cell_type": "markdown",
      "source": [
        "# Saving and Loading a Model"
      ],
      "metadata": {
        "id": "7KAa0pRjnj8_"
      }
    },
    {
      "cell_type": "code",
      "source": [
        "\n",
        "\n",
        "# Let's now save our model to a file\n",
        "model.save('linearclassifier.h5')\n",
        "\n"
      ],
      "metadata": {
        "id": "Qh8tADKD7Ftc"
      },
      "execution_count": 62,
      "outputs": []
    },
    {
      "cell_type": "code",
      "source": [
        "\n",
        "\n",
        "# Check that the model file exists\n",
        "!ls -lh\n",
        "\n"
      ],
      "metadata": {
        "colab": {
          "base_uri": "https://localhost:8080/"
        },
        "id": "kWgF89wGnnXY",
        "outputId": "d193df3b-8961-4ecc-8958-cd21205b010e"
      },
      "execution_count": 63,
      "outputs": [
        {
          "output_type": "stream",
          "name": "stdout",
          "text": [
            "total 24K\n",
            "-rw-r--r-- 1 root root  19K May 25 16:43 linearclassifier.h5\n",
            "drwxr-xr-x 1 root root 4.0K May 23 13:25 sample_data\n"
          ]
        }
      ]
    },
    {
      "cell_type": "code",
      "source": [
        "# Let's load the model and confirm that it still works\n",
        "# Note: there is a bug in Keras where load/save only works if you DON'T use the Input() layer explicitly\n",
        "# So, make sure you define the model with ONLY Dense(1, input_shape=(D,))\n",
        "# At least, until the bug is fixed\n",
        "# https://github.com/keras-team/keras/issues/10417\n",
        "model = tf.keras.models.load_model('linearclassifier.h5')\n",
        "print(model.layers)\n",
        "model.evaluate(X_test, y_test)"
      ],
      "metadata": {
        "colab": {
          "base_uri": "https://localhost:8080/"
        },
        "id": "Wz-VVnRannaP",
        "outputId": "1a0b57e1-d90c-473f-f91a-cadb1b8b045b"
      },
      "execution_count": 60,
      "outputs": [
        {
          "output_type": "stream",
          "name": "stdout",
          "text": [
            "[<keras.src.layers.core.dense.Dense object at 0x79db4248aa70>]\n",
            "6/6 [==============================] - 0s 2ms/step - loss: 0.0761 - accuracy: 0.9894\n"
          ]
        },
        {
          "output_type": "execute_result",
          "data": {
            "text/plain": [
              "[0.07607444375753403, 0.9893617033958435]"
            ]
          },
          "metadata": {},
          "execution_count": 60
        }
      ]
    },
    {
      "cell_type": "code",
      "source": [
        "\n",
        "\n",
        "# Download the file - requires Chrome (at this point)\n",
        "from google.colab import files\n",
        "files.download('linearclassifier.h5')\n",
        "\n"
      ],
      "metadata": {
        "id": "0CcjyzzJ5_JF",
        "colab": {
          "base_uri": "https://localhost:8080/",
          "height": 37
        },
        "outputId": "c24986cd-858d-4213-d88e-78f831739876"
      },
      "execution_count": 64,
      "outputs": [
        {
          "output_type": "display_data",
          "data": {
            "text/plain": [
              "<IPython.core.display.Javascript object>"
            ],
            "application/javascript": [
              "\n",
              "    async function download(id, filename, size) {\n",
              "      if (!google.colab.kernel.accessAllowed) {\n",
              "        return;\n",
              "      }\n",
              "      const div = document.createElement('div');\n",
              "      const label = document.createElement('label');\n",
              "      label.textContent = `Downloading \"${filename}\": `;\n",
              "      div.appendChild(label);\n",
              "      const progress = document.createElement('progress');\n",
              "      progress.max = size;\n",
              "      div.appendChild(progress);\n",
              "      document.body.appendChild(div);\n",
              "\n",
              "      const buffers = [];\n",
              "      let downloaded = 0;\n",
              "\n",
              "      const channel = await google.colab.kernel.comms.open(id);\n",
              "      // Send a message to notify the kernel that we're ready.\n",
              "      channel.send({})\n",
              "\n",
              "      for await (const message of channel.messages) {\n",
              "        // Send a message to notify the kernel that we're ready.\n",
              "        channel.send({})\n",
              "        if (message.buffers) {\n",
              "          for (const buffer of message.buffers) {\n",
              "            buffers.push(buffer);\n",
              "            downloaded += buffer.byteLength;\n",
              "            progress.value = downloaded;\n",
              "          }\n",
              "        }\n",
              "      }\n",
              "      const blob = new Blob(buffers, {type: 'application/binary'});\n",
              "      const a = document.createElement('a');\n",
              "      a.href = window.URL.createObjectURL(blob);\n",
              "      a.download = filename;\n",
              "      div.appendChild(a);\n",
              "      a.click();\n",
              "      div.remove();\n",
              "    }\n",
              "  "
            ]
          },
          "metadata": {}
        },
        {
          "output_type": "display_data",
          "data": {
            "text/plain": [
              "<IPython.core.display.Javascript object>"
            ],
            "application/javascript": [
              "download(\"download_408b4c4d-d58d-4bca-877e-652f698ece56\", \"linearclassifier.h5\", 19208)"
            ]
          },
          "metadata": {}
        }
      ]
    },
    {
      "cell_type": "code",
      "source": [],
      "metadata": {
        "id": "AVEnHSzLnxBd"
      },
      "execution_count": 61,
      "outputs": []
    },
    {
      "cell_type": "code",
      "source": [],
      "metadata": {
        "id": "s9vWozZBnxEB"
      },
      "execution_count": 61,
      "outputs": []
    },
    {
      "cell_type": "code",
      "source": [],
      "metadata": {
        "id": "nJR0DlwxnxHK"
      },
      "execution_count": 61,
      "outputs": []
    },
    {
      "cell_type": "code",
      "source": [],
      "metadata": {
        "id": "I4V-L0SpnxJz"
      },
      "execution_count": 61,
      "outputs": []
    }
  ]
}